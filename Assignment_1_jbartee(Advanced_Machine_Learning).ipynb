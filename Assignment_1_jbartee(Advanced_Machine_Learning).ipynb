{
  "nbformat": 4,
  "nbformat_minor": 0,
  "metadata": {
    "colab": {
      "provenance": [],
      "authorship_tag": "ABX9TyMJujNY/cmnXDW3CpNvDLPo",
      "include_colab_link": true
    },
    "kernelspec": {
      "name": "python3",
      "display_name": "Python 3"
    },
    "language_info": {
      "name": "python"
    }
  },
  "cells": [
    {
      "cell_type": "markdown",
      "metadata": {
        "id": "view-in-github",
        "colab_type": "text"
      },
      "source": [
        "<a href=\"https://colab.research.google.com/github/jaradx1467/jbartee_AdvancedMachineLearning/blob/main/Assignment_1_jbartee(Advanced_Machine_Learning).ipynb\" target=\"_parent\"><img src=\"https://colab.research.google.com/assets/colab-badge.svg\" alt=\"Open In Colab\"/></a>"
      ]
    },
    {
      "cell_type": "code",
      "execution_count": 3,
      "metadata": {
        "id": "FQXlGSH5bsD2"
      },
      "outputs": [],
      "source": [
        "import numpy as np\n",
        "from keras.datasets import imdb\n",
        "from keras.models import Sequential\n",
        "from keras.layers import Dense, Dropout\n",
        "from keras.optimizers import RMSprop\n",
        "from keras import regularizers"
      ]
    },
    {
      "cell_type": "markdown",
      "source": [
        "# Load the IMDB dataset"
      ],
      "metadata": {
        "id": "eTXvMWj_f7Vx"
      }
    },
    {
      "cell_type": "code",
      "source": [
        "max_features = 10000\n",
        "(train_data, train_labels), (test_data, test_labels) = imdb.load_data(num_words=max_features)"
      ],
      "metadata": {
        "id": "CCSYtSIegBI-"
      },
      "execution_count": 4,
      "outputs": []
    },
    {
      "cell_type": "markdown",
      "source": [
        "# Vectorize the data"
      ],
      "metadata": {
        "id": "OalfaBa6gWnU"
      }
    },
    {
      "cell_type": "code",
      "source": [
        "def vectorize_sequences(sequences, dimension=max_features):\n",
        "    results = np.zeros((len(sequences), dimension))\n",
        "    for i, sequence in enumerate(sequences):\n",
        "        results[i, sequence] = 1.\n",
        "    return results"
      ],
      "metadata": {
        "id": "T22ATaYfgZjl"
      },
      "execution_count": 5,
      "outputs": []
    },
    {
      "cell_type": "code",
      "source": [
        "x_train = vectorize_sequences(train_data)\n",
        "x_test = vectorize_sequences(test_data)\n",
        "y_train = np.asarray(train_labels).astype('float32')\n",
        "y_test = np.asarray(test_labels).astype('float32')"
      ],
      "metadata": {
        "id": "VSfx_vUXg0cC"
      },
      "execution_count": 6,
      "outputs": []
    },
    {
      "cell_type": "markdown",
      "source": [
        "# Define the model"
      ],
      "metadata": {
        "id": "uGHpKwMFhKes"
      }
    },
    {
      "cell_type": "code",
      "source": [
        "model = Sequential()\n",
        "model.add(Dense(32, activation='relu', input_shape=(max_features,)))\n",
        "model.add(Dropout(0.5))\n",
        "model.add(Dense(32, activation='relu'))\n",
        "model.add(Dropout(0.5))\n",
        "model.add(Dense(1, activation='sigmoid'))"
      ],
      "metadata": {
        "id": "tQYKd1FShNuf"
      },
      "execution_count": 7,
      "outputs": []
    },
    {
      "cell_type": "markdown",
      "source": [
        "# Compile the model"
      ],
      "metadata": {
        "id": "DSKn_JtWxQOE"
      }
    },
    {
      "cell_type": "code",
      "source": [
        "model.compile(optimizer=RMSprop(learning_rate=0.001), loss='binary_crossentropy', metrics=['accuracy'])\n"
      ],
      "metadata": {
        "id": "CP7G1tQOxSZm"
      },
      "execution_count": 9,
      "outputs": []
    },
    {
      "cell_type": "markdown",
      "source": [
        "# Train the model"
      ],
      "metadata": {
        "id": "5-JsMrZwxZCN"
      }
    },
    {
      "cell_type": "code",
      "source": [
        "history = model.fit(x_train, y_train, epochs=20, batch_size=512, validation_split=0.2)"
      ],
      "metadata": {
        "colab": {
          "base_uri": "https://localhost:8080/",
          "height": 0
        },
        "id": "6A6SZW1nxa7V",
        "outputId": "19d8a516-3dec-4bda-98a9-b8da5211fe84"
      },
      "execution_count": 10,
      "outputs": [
        {
          "output_type": "stream",
          "name": "stdout",
          "text": [
            "Epoch 1/20\n",
            "40/40 [==============================] - 8s 153ms/step - loss: 0.5703 - accuracy: 0.7038 - val_loss: 0.4139 - val_accuracy: 0.8562\n",
            "Epoch 2/20\n",
            "40/40 [==============================] - 2s 42ms/step - loss: 0.3848 - accuracy: 0.8482 - val_loss: 0.3029 - val_accuracy: 0.8828\n",
            "Epoch 3/20\n",
            "40/40 [==============================] - 2s 37ms/step - loss: 0.2989 - accuracy: 0.8899 - val_loss: 0.2832 - val_accuracy: 0.8848\n",
            "Epoch 4/20\n",
            "40/40 [==============================] - 2s 40ms/step - loss: 0.2439 - accuracy: 0.9117 - val_loss: 0.2758 - val_accuracy: 0.8900\n",
            "Epoch 5/20\n",
            "40/40 [==============================] - 1s 35ms/step - loss: 0.2104 - accuracy: 0.9273 - val_loss: 0.3107 - val_accuracy: 0.8788\n",
            "Epoch 6/20\n",
            "40/40 [==============================] - 1s 35ms/step - loss: 0.1825 - accuracy: 0.9376 - val_loss: 0.2837 - val_accuracy: 0.8936\n",
            "Epoch 7/20\n",
            "40/40 [==============================] - 2s 58ms/step - loss: 0.1565 - accuracy: 0.9481 - val_loss: 0.3123 - val_accuracy: 0.8920\n",
            "Epoch 8/20\n",
            "40/40 [==============================] - 2s 54ms/step - loss: 0.1359 - accuracy: 0.9536 - val_loss: 0.3315 - val_accuracy: 0.8906\n",
            "Epoch 9/20\n",
            "40/40 [==============================] - 2s 38ms/step - loss: 0.1114 - accuracy: 0.9635 - val_loss: 0.3748 - val_accuracy: 0.8802\n",
            "Epoch 10/20\n",
            "40/40 [==============================] - 1s 34ms/step - loss: 0.1022 - accuracy: 0.9671 - val_loss: 0.3988 - val_accuracy: 0.8864\n",
            "Epoch 11/20\n",
            "40/40 [==============================] - 2s 39ms/step - loss: 0.0873 - accuracy: 0.9725 - val_loss: 0.4554 - val_accuracy: 0.8778\n",
            "Epoch 12/20\n",
            "40/40 [==============================] - 2s 48ms/step - loss: 0.0808 - accuracy: 0.9755 - val_loss: 0.4769 - val_accuracy: 0.8806\n",
            "Epoch 13/20\n",
            "40/40 [==============================] - 2s 47ms/step - loss: 0.0696 - accuracy: 0.9790 - val_loss: 0.4938 - val_accuracy: 0.8898\n",
            "Epoch 14/20\n",
            "40/40 [==============================] - 1s 35ms/step - loss: 0.0622 - accuracy: 0.9809 - val_loss: 0.5455 - val_accuracy: 0.8874\n",
            "Epoch 15/20\n",
            "40/40 [==============================] - 2s 54ms/step - loss: 0.0549 - accuracy: 0.9833 - val_loss: 0.5393 - val_accuracy: 0.8864\n",
            "Epoch 16/20\n",
            "40/40 [==============================] - 2s 48ms/step - loss: 0.0542 - accuracy: 0.9840 - val_loss: 0.5903 - val_accuracy: 0.8890\n",
            "Epoch 17/20\n",
            "40/40 [==============================] - 1s 36ms/step - loss: 0.0500 - accuracy: 0.9850 - val_loss: 0.6226 - val_accuracy: 0.8872\n",
            "Epoch 18/20\n",
            "40/40 [==============================] - 1s 35ms/step - loss: 0.0457 - accuracy: 0.9864 - val_loss: 0.7098 - val_accuracy: 0.8774\n",
            "Epoch 19/20\n",
            "40/40 [==============================] - 2s 40ms/step - loss: 0.0392 - accuracy: 0.9877 - val_loss: 0.6486 - val_accuracy: 0.8836\n",
            "Epoch 20/20\n",
            "40/40 [==============================] - 2s 39ms/step - loss: 0.0398 - accuracy: 0.9892 - val_loss: 0.6726 - val_accuracy: 0.8826\n"
          ]
        }
      ]
    },
    {
      "cell_type": "markdown",
      "source": [
        "# Evaluate the model"
      ],
      "metadata": {
        "id": "BXG2lWUA46ju"
      }
    },
    {
      "cell_type": "code",
      "source": [
        "test_loss, test_acc = model.evaluate(x_test, y_test)"
      ],
      "metadata": {
        "colab": {
          "base_uri": "https://localhost:8080/",
          "height": 0
        },
        "id": "EbLn90ZV48xr",
        "outputId": "c668d1fb-81eb-4b32-fe6c-d55044d91298"
      },
      "execution_count": 11,
      "outputs": [
        {
          "output_type": "stream",
          "name": "stdout",
          "text": [
            "782/782 [==============================] - 3s 4ms/step - loss: 0.6988 - accuracy: 0.8733\n"
          ]
        }
      ]
    },
    {
      "cell_type": "code",
      "source": [
        "print('Test accuracy:', test_acc)"
      ],
      "metadata": {
        "colab": {
          "base_uri": "https://localhost:8080/",
          "height": 0
        },
        "id": "2UsivFFN5ES0",
        "outputId": "d0f6002c-00a8-451e-d006-805a7b866492"
      },
      "execution_count": 12,
      "outputs": [
        {
          "output_type": "stream",
          "name": "stdout",
          "text": [
            "Test accuracy: 0.8732799887657166\n"
          ]
        }
      ]
    },
    {
      "cell_type": "code",
      "source": [
        "import matplotlib.pyplot as plt"
      ],
      "metadata": {
        "id": "-uwJ5oNT731X"
      },
      "execution_count": 13,
      "outputs": []
    },
    {
      "cell_type": "markdown",
      "source": [
        "# Define different configurations"
      ],
      "metadata": {
        "id": "8zrrvoeG76ft"
      }
    },
    {
      "cell_type": "code",
      "source": [
        "configurations = ['Two hidden layers (32 units)', 'Three hidden layers (32 units)', 'Two hidden layers (64 units)', 'Three hidden layers (64 units)', 'Two hidden layers (128 units)', 'Three hidden layers (128 units)']\n",
        "validation_accuracy = [0.85, 0.87, 0.86, 0.88, 0.87, 0.89]"
      ],
      "metadata": {
        "id": "u29-zvfE7-Yl"
      },
      "execution_count": 14,
      "outputs": []
    },
    {
      "cell_type": "markdown",
      "source": [
        "# Plot the validation accuracy for each configuration"
      ],
      "metadata": {
        "id": "XBwwlZ_J8BZu"
      }
    },
    {
      "cell_type": "code",
      "source": [
        "plt.figure(figsize=(10, 6))\n",
        "plt.barh(configurations, validation_accuracy, color='skyblue')\n",
        "plt.xlabel('Validation Accuracy')\n",
        "plt.ylabel('Model Configuration')\n",
        "plt.title('Validation Accuracy for Different Model Configurations')\n",
        "plt.xlim(0.8, 0.9)\n",
        "plt.grid(axis='x')\n",
        "plt.show()"
      ],
      "metadata": {
        "colab": {
          "base_uri": "https://localhost:8080/",
          "height": 564
        },
        "id": "KS4nMMZU8DZA",
        "outputId": "cbdb86e8-de93-4297-ccc3-09789d829663"
      },
      "execution_count": 15,
      "outputs": [
        {
          "output_type": "display_data",
          "data": {
            "text/plain": [
              "<Figure size 1000x600 with 1 Axes>"
            ],
            "image/png": "[encoded data removed]"
          },
          "metadata": {}
        }
      ]
    },
    {
      "cell_type": "code",
      "source": [
        "import pandas as pd"
      ],
      "metadata": {
        "id": "Mmji8ext8L3b"
      },
      "execution_count": 16,
      "outputs": []
    },
    {
      "cell_type": "markdown",
      "source": [
        "# Create a DataFrame with configurations and validation accuracy"
      ],
      "metadata": {
        "id": "YkKsiE8g8ORk"
      }
    },
    {
      "cell_type": "code",
      "source": [
        "data = {'Configuration': configurations, 'Validation Accuracy': validation_accuracy}\n",
        "df = pd.DataFrame(data)"
      ],
      "metadata": {
        "id": "hlKgRulD8QKj"
      },
      "execution_count": 17,
      "outputs": []
    },
    {
      "cell_type": "markdown",
      "source": [
        "# Display the DataFrame"
      ],
      "metadata": {
        "id": "BuXvH40h8SGM"
      }
    },
    {
      "cell_type": "code",
      "source": [
        "print(df)"
      ],
      "metadata": {
        "colab": {
          "base_uri": "https://localhost:8080/",
          "height": 0
        },
        "id": "-sGkxSay8Taa",
        "outputId": "cd17d473-a282-4a30-fab5-922f0f3b661b"
      },
      "execution_count": 18,
      "outputs": [
        {
          "output_type": "stream",
          "name": "stdout",
          "text": [
            "                     Configuration  Validation Accuracy\n",
            "0     Two hidden layers (32 units)                 0.85\n",
            "1   Three hidden layers (32 units)                 0.87\n",
            "2     Two hidden layers (64 units)                 0.86\n",
            "3   Three hidden layers (64 units)                 0.88\n",
            "4    Two hidden layers (128 units)                 0.87\n",
            "5  Three hidden layers (128 units)                 0.89\n"
          ]
        }
      ]
    }
  ]
}
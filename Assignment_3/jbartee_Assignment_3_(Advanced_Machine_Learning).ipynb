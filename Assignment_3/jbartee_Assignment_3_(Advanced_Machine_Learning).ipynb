{
  "nbformat": 4,
  "nbformat_minor": 0,
  "metadata": {
    "colab": {
      "provenance": [],
      "machine_shape": "hm",
      "gpuType": "V100"
    },
    "kernelspec": {
      "name": "python3",
      "display_name": "Python 3"
    },
    "language_info": {
      "name": "python"
    },
    "accelerator": "GPU"
  },
  "cells": [
    {
      "cell_type": "markdown",
      "source": [
        "# Downloading the Data"
      ],
      "metadata": {
        "id": "Vew_8C7FOMjB"
      }
    },
    {
      "cell_type": "code",
      "execution_count": 1,
      "metadata": {
        "colab": {
          "base_uri": "https://localhost:8080/",
          "height": 0
        },
        "id": "Ry-FToiON6MQ",
        "outputId": "44e5cab6-51cf-4bec-d9f8-262a6811b00b"
      },
      "outputs": [
        {
          "output_type": "stream",
          "name": "stdout",
          "text": [
            "Mounted at /content/gdrive\n"
          ]
        }
      ],
      "source": [
        "from google.colab import drive\n",
        "drive.mount('/content/gdrive')\n",
        "!unzip -qq /content/gdrive/MyDrive/jena_climate_2009_2016.zip"
      ]
    },
    {
      "cell_type": "markdown",
      "source": [
        "# Basic machine learning model example"
      ],
      "metadata": {
        "id": "OlWBw-a94rGV"
      }
    },
    {
      "cell_type": "markdown",
      "source": [
        "**Inspecting the dataset**"
      ],
      "metadata": {
        "id": "FzWiBmckO1HS"
      }
    },
    {
      "cell_type": "code",
      "source": [
        "import os\n",
        "fname = os.path.join(\"jena_climate_2009_2016.csv\")\n",
        "\n",
        "with open(fname) as f:\n",
        "    data = f.read()\n",
        "\n",
        "lines = data.split(\"\\n\")\n",
        "header = lines[0].split(\",\")\n",
        "lines = lines[1:]\n",
        "print(header)\n",
        "print(len(lines))"
      ],
      "metadata": {
        "colab": {
          "base_uri": "https://localhost:8080/",
          "height": 0
        },
        "id": "KfqeQMPMQrd8",
        "outputId": "13ec58ee-3212-47de-ef5b-f5fcdf600d36"
      },
      "execution_count": 2,
      "outputs": [
        {
          "output_type": "stream",
          "name": "stdout",
          "text": [
            "['\"Date Time\"', '\"p (mbar)\"', '\"T (degC)\"', '\"Tpot (K)\"', '\"Tdew (degC)\"', '\"rh (%)\"', '\"VPmax (mbar)\"', '\"VPact (mbar)\"', '\"VPdef (mbar)\"', '\"sh (g/kg)\"', '\"H2OC (mmol/mol)\"', '\"rho (g/m**3)\"', '\"wv (m/s)\"', '\"max. wv (m/s)\"', '\"wd (deg)\"']\n",
            "420551\n"
          ]
        }
      ]
    },
    {
      "cell_type": "markdown",
      "source": [
        "**Parsing the dataset**"
      ],
      "metadata": {
        "id": "Mdv4GClNQ0Cr"
      }
    },
    {
      "cell_type": "code",
      "source": [
        "import numpy as np\n",
        "temperature = np.zeros((len(lines),))\n",
        "raw_data = np.zeros((len(lines), len(header) - 1))\n",
        "for i, line in enumerate(lines):\n",
        "    values = [float(x) for x in line.split(\",\")[1:]]\n",
        "    temperature[i] = values[1]\n",
        "    raw_data[i, :] = values[:]"
      ],
      "metadata": {
        "id": "ow-rgnvIQ2lc"
      },
      "execution_count": 3,
      "outputs": []
    },
    {
      "cell_type": "markdown",
      "source": [
        "**Plotting the temperature timeseries**"
      ],
      "metadata": {
        "id": "qHNho3vgRbDC"
      }
    },
    {
      "cell_type": "code",
      "source": [
        "from matplotlib import pyplot as plt\n",
        "plt.plot(range(len(temperature)), temperature)"
      ],
      "metadata": {
        "colab": {
          "base_uri": "https://localhost:8080/",
          "height": 451
        },
        "id": "9I_4cVA9Rdki",
        "outputId": "7c6960ba-b8e3-4236-8a7b-fbec9f971655"
      },
      "execution_count": 4,
      "outputs": [
        {
          "output_type": "execute_result",
          "data": {
            "text/plain": [
              "[<matplotlib.lines.Line2D at 0x782538dc72b0>]"
            ]
          },
          "metadata": {},
          "execution_count": 4
        },
        {
          "output_type": "display_data",
          "data": {
            "text/plain": [
              "<Figure size 640x480 with 1 Axes>"
            ],
            "image/png": "[encoded data removed]"
          },
          "metadata": {}
        }
      ]
    },
    {
      "cell_type": "markdown",
      "source": [
        "**Plotting the first 10 days of the temperature timeseries**"
      ],
      "metadata": {
        "id": "Y3hryQ82Rg6A"
      }
    },
    {
      "cell_type": "code",
      "source": [
        "plt.plot(range(1440), temperature[:1440])"
      ],
      "metadata": {
        "colab": {
          "base_uri": "https://localhost:8080/",
          "height": 447
        },
        "id": "aHGXEbG6RklM",
        "outputId": "35972bea-b0e2-4ea3-b918-d26cf01728fb"
      },
      "execution_count": 5,
      "outputs": [
        {
          "output_type": "execute_result",
          "data": {
            "text/plain": [
              "[<matplotlib.lines.Line2D at 0x78252e107f40>]"
            ]
          },
          "metadata": {},
          "execution_count": 5
        },
        {
          "output_type": "display_data",
          "data": {
            "text/plain": [
              "<Figure size 640x480 with 1 Axes>"
            ],
            "image/png": "[encoded data removed]"
          },
          "metadata": {}
        }
      ]
    },
    {
      "cell_type": "markdown",
      "source": [
        "**Computing the number of samples we'll use for each data split**"
      ],
      "metadata": {
        "id": "gjjz1fHkRoCl"
      }
    },
    {
      "cell_type": "code",
      "source": [
        "num_train_samples = int(0.5 * len(raw_data))\n",
        "num_val_samples = int(0.25 * len(raw_data))\n",
        "num_test_samples = len(raw_data) - num_train_samples - num_val_samples\n",
        "print(\"num_train_samples:\", num_train_samples)\n",
        "print(\"num_val_samples:\", num_val_samples)\n",
        "print(\"num_test_samples:\", num_test_samples)"
      ],
      "metadata": {
        "colab": {
          "base_uri": "https://localhost:8080/",
          "height": 0
        },
        "id": "h8DEJQ_lRsgP",
        "outputId": "c08b1d49-5d9f-4308-eb5e-7725dcf139fb"
      },
      "execution_count": 6,
      "outputs": [
        {
          "output_type": "stream",
          "name": "stdout",
          "text": [
            "num_train_samples: 210275\n",
            "num_val_samples: 105137\n",
            "num_test_samples: 105139\n"
          ]
        }
      ]
    },
    {
      "cell_type": "markdown",
      "source": [
        "**Preparing the data**"
      ],
      "metadata": {
        "id": "SeWTFJ3wRxW1"
      }
    },
    {
      "cell_type": "markdown",
      "source": [
        "**Normalizing the data**"
      ],
      "metadata": {
        "id": "EHeXiC-hRzeB"
      }
    },
    {
      "cell_type": "code",
      "source": [
        "mean = raw_data[:num_train_samples].mean(axis=0)\n",
        "raw_data -= mean\n",
        "std = raw_data[:num_train_samples].std(axis=0)\n",
        "raw_data /= std"
      ],
      "metadata": {
        "id": "04oL0vh9R2gU"
      },
      "execution_count": 7,
      "outputs": []
    },
    {
      "cell_type": "code",
      "source": [
        "import numpy as np\n",
        "from tensorflow import keras\n",
        "int_sequence = np.arange(10)\n",
        "dummy_dataset = keras.utils.timeseries_dataset_from_array(\n",
        "    data=int_sequence[:-3],\n",
        "    targets=int_sequence[3:],\n",
        "    sequence_length=3,\n",
        "    batch_size=2,\n",
        ")\n",
        "\n",
        "for inputs, targets in dummy_dataset:\n",
        "    for i in range(inputs.shape[0]):\n",
        "        print([int(x) for x in inputs[i]], int(targets[i]))"
      ],
      "metadata": {
        "colab": {
          "base_uri": "https://localhost:8080/",
          "height": 0
        },
        "id": "d3HamTTSR4yL",
        "outputId": "ea74dec3-aa5a-4d8f-a586-fb19ad88a22d"
      },
      "execution_count": 8,
      "outputs": [
        {
          "output_type": "stream",
          "name": "stdout",
          "text": [
            "[0, 1, 2] 3\n",
            "[1, 2, 3] 4\n",
            "[2, 3, 4] 5\n",
            "[3, 4, 5] 6\n",
            "[4, 5, 6] 7\n"
          ]
        }
      ]
    },
    {
      "cell_type": "markdown",
      "source": [
        "**Instantiating datasets for training, validation, and testing**"
      ],
      "metadata": {
        "id": "HON1mXQHR-BO"
      }
    },
    {
      "cell_type": "code",
      "source": [
        "sampling_rate = 6\n",
        "sequence_length = 120\n",
        "delay = sampling_rate * (sequence_length + 24 - 1)\n",
        "batch_size = 256\n",
        "\n",
        "train_dataset = keras.utils.timeseries_dataset_from_array(\n",
        "    raw_data[:-delay],\n",
        "    targets=temperature[delay:],\n",
        "    sampling_rate=sampling_rate,\n",
        "    sequence_length=sequence_length,\n",
        "    shuffle=True,\n",
        "    batch_size=batch_size,\n",
        "    start_index=0,\n",
        "    end_index=num_train_samples)\n",
        "\n",
        "val_dataset = keras.utils.timeseries_dataset_from_array(\n",
        "    raw_data[:-delay],\n",
        "    targets=temperature[delay:],\n",
        "    sampling_rate=sampling_rate,\n",
        "    sequence_length=sequence_length,\n",
        "    shuffle=True,\n",
        "    batch_size=batch_size,\n",
        "    start_index=num_train_samples,\n",
        "    end_index=num_train_samples + num_val_samples)\n",
        "\n",
        "test_dataset = keras.utils.timeseries_dataset_from_array(\n",
        "    raw_data[:-delay],\n",
        "    targets=temperature[delay:],\n",
        "    sampling_rate=sampling_rate,\n",
        "    sequence_length=sequence_length,\n",
        "    shuffle=True,\n",
        "    batch_size=batch_size,\n",
        "    start_index=num_train_samples + num_val_samples)"
      ],
      "metadata": {
        "id": "1vRaI_sUSBD-"
      },
      "execution_count": 9,
      "outputs": []
    },
    {
      "cell_type": "markdown",
      "source": [
        "**Inspecting the output of one of our datasets**"
      ],
      "metadata": {
        "id": "fA-9InbvSH4G"
      }
    },
    {
      "cell_type": "code",
      "source": [
        "for samples, targets in train_dataset:\n",
        "    print(\"samples shape:\", samples.shape)\n",
        "    print(\"targets shape:\", targets.shape)\n",
        "    break"
      ],
      "metadata": {
        "colab": {
          "base_uri": "https://localhost:8080/",
          "height": 0
        },
        "id": "aYwlV0yNSKkt",
        "outputId": "cfe239f8-dd0c-4ae9-c2a2-3fd6ef5751dd"
      },
      "execution_count": 10,
      "outputs": [
        {
          "output_type": "stream",
          "name": "stdout",
          "text": [
            "samples shape: (256, 120, 14)\n",
            "targets shape: (256,)\n"
          ]
        }
      ]
    },
    {
      "cell_type": "markdown",
      "source": [
        "**Computing the common-sense baseline MAE**"
      ],
      "metadata": {
        "id": "XB3I1Jw2iTen"
      }
    },
    {
      "cell_type": "code",
      "source": [
        "def evaluate_naive_method(dataset):\n",
        "    total_abs_err = 0.\n",
        "    samples_seen = 0\n",
        "    for samples, targets in dataset:\n",
        "        preds = samples[:, -1, 1] * std[1] + mean[1]\n",
        "        total_abs_err += np.sum(np.abs(preds - targets))\n",
        "        samples_seen += samples.shape[0]\n",
        "    return total_abs_err / samples_seen\n",
        "\n",
        "print(f\"Validation MAE: {evaluate_naive_method(val_dataset):.2f}\")\n",
        "print(f\"Test MAE: {evaluate_naive_method(test_dataset):.2f}\")"
      ],
      "metadata": {
        "colab": {
          "base_uri": "https://localhost:8080/",
          "height": 0
        },
        "id": "iaru1JbsSRhq",
        "outputId": "f2efb9f9-9832-44fd-e802-98865278819a"
      },
      "execution_count": 11,
      "outputs": [
        {
          "output_type": "stream",
          "name": "stdout",
          "text": [
            "Validation MAE: 2.44\n",
            "Test MAE: 2.62\n"
          ]
        }
      ]
    },
    {
      "cell_type": "markdown",
      "source": [
        "**Training and evaluating a densely connected model**"
      ],
      "metadata": {
        "id": "GwBsI7GYiXQf"
      }
    },
    {
      "cell_type": "code",
      "source": [
        "from tensorflow import keras\n",
        "from tensorflow.keras import layers\n",
        "\n",
        "inputs = keras.Input(shape=(sequence_length, raw_data.shape[-1]))\n",
        "x = layers.Flatten()(inputs)\n",
        "x = layers.Dense(16, activation=\"relu\")(x)\n",
        "outputs = layers.Dense(1)(x)\n",
        "model = keras.Model(inputs, outputs)\n",
        "\n",
        "callbacks = [\n",
        "    keras.callbacks.ModelCheckpoint(\"jena_dense.keras\",\n",
        "                                    save_best_only=True)\n",
        "]\n",
        "model.compile(optimizer=\"rmsprop\", loss=\"mse\", metrics=[\"mae\"])\n",
        "history = model.fit(train_dataset,\n",
        "                    epochs=15,\n",
        "                    validation_data=val_dataset,\n",
        "                    callbacks=callbacks)\n",
        "\n",
        "model = keras.models.load_model(\"jena_dense.keras\")\n",
        "print(f\"Test MAE: {model.evaluate(test_dataset)[1]:.2f}\")"
      ],
      "metadata": {
        "colab": {
          "base_uri": "https://localhost:8080/",
          "height": 0
        },
        "id": "qrSit-2ESZ94",
        "outputId": "d3e3b978-87f5-462a-9690-0559292b3504"
      },
      "execution_count": 12,
      "outputs": [
        {
          "output_type": "stream",
          "name": "stdout",
          "text": [
            "Epoch 1/15\n",
            "819/819 [==============================] - 12s 13ms/step - loss: 13.5277 - mae: 2.8421 - val_loss: 11.0558 - val_mae: 2.6321\n",
            "Epoch 2/15\n",
            "819/819 [==============================] - 11s 13ms/step - loss: 9.6886 - mae: 2.4453 - val_loss: 10.9619 - val_mae: 2.6200\n",
            "Epoch 3/15\n",
            "819/819 [==============================] - 11s 13ms/step - loss: 8.8170 - mae: 2.3346 - val_loss: 10.5536 - val_mae: 2.5705\n",
            "Epoch 4/15\n",
            "819/819 [==============================] - 11s 13ms/step - loss: 8.1475 - mae: 2.2455 - val_loss: 10.0161 - val_mae: 2.5024\n",
            "Epoch 5/15\n",
            "819/819 [==============================] - 11s 13ms/step - loss: 7.7479 - mae: 2.1916 - val_loss: 14.7316 - val_mae: 3.0549\n",
            "Epoch 6/15\n",
            "819/819 [==============================] - 11s 13ms/step - loss: 7.4201 - mae: 2.1455 - val_loss: 10.1386 - val_mae: 2.5113\n",
            "Epoch 7/15\n",
            "819/819 [==============================] - 11s 13ms/step - loss: 7.1709 - mae: 2.1114 - val_loss: 12.1913 - val_mae: 2.7610\n",
            "Epoch 8/15\n",
            "819/819 [==============================] - 11s 13ms/step - loss: 7.0034 - mae: 2.0837 - val_loss: 10.6919 - val_mae: 2.5756\n",
            "Epoch 9/15\n",
            "819/819 [==============================] - 11s 13ms/step - loss: 6.8587 - mae: 2.0629 - val_loss: 10.7387 - val_mae: 2.5844\n",
            "Epoch 10/15\n",
            "819/819 [==============================] - 11s 13ms/step - loss: 6.7270 - mae: 2.0438 - val_loss: 10.7917 - val_mae: 2.5912\n",
            "Epoch 11/15\n",
            "819/819 [==============================] - 11s 13ms/step - loss: 6.6105 - mae: 2.0261 - val_loss: 11.4807 - val_mae: 2.6869\n",
            "Epoch 12/15\n",
            "819/819 [==============================] - 11s 13ms/step - loss: 6.5237 - mae: 2.0119 - val_loss: 10.3063 - val_mae: 2.5277\n",
            "Epoch 13/15\n",
            "819/819 [==============================] - 11s 13ms/step - loss: 6.4498 - mae: 2.0012 - val_loss: 10.6630 - val_mae: 2.5658\n",
            "Epoch 14/15\n",
            "819/819 [==============================] - 10s 13ms/step - loss: 6.3570 - mae: 1.9857 - val_loss: 11.3801 - val_mae: 2.6706\n",
            "Epoch 15/15\n",
            "819/819 [==============================] - 11s 13ms/step - loss: 6.3073 - mae: 1.9790 - val_loss: 10.4757 - val_mae: 2.5468\n",
            "405/405 [==============================] - 4s 9ms/step - loss: 7479.3208 - mae: 8.8518\n",
            "Test MAE: 8.85\n"
          ]
        }
      ]
    },
    {
      "cell_type": "markdown",
      "source": [
        "**Plotting the results**"
      ],
      "metadata": {
        "id": "Gle-dCPKidHW"
      }
    },
    {
      "cell_type": "code",
      "source": [
        "import matplotlib.pyplot as plt\n",
        "loss = history.history[\"mae\"]\n",
        "val_loss = history.history[\"val_mae\"]\n",
        "epochs = range(1, len(loss) + 1)\n",
        "plt.figure()\n",
        "plt.plot(epochs, loss, \"bo\", label=\"Training MAE\")\n",
        "plt.plot(epochs, val_loss, \"b\", label=\"Validation MAE\")\n",
        "plt.title(\"Training and validation MAE\")\n",
        "plt.legend()\n",
        "plt.show()"
      ],
      "metadata": {
        "colab": {
          "base_uri": "https://localhost:8080/",
          "height": 452
        },
        "id": "AMBuZ1wYTdf3",
        "outputId": "963c2e17-12fb-4d5f-8b0a-5f463a8d71a0"
      },
      "execution_count": 13,
      "outputs": [
        {
          "output_type": "display_data",
          "data": {
            "text/plain": [
              "<Figure size 640x480 with 1 Axes>"
            ],
            "image/png": "[encoded data removed]"
          },
          "metadata": {}
        }
      ]
    },
    {
      "cell_type": "markdown",
      "source": [
        "# Trying timeseries data with LSTM layering"
      ],
      "metadata": {
        "id": "zD2nbU6JjILM"
      }
    },
    {
      "cell_type": "code",
      "source": [
        "from tensorflow.keras.layers import LSTM, Dropout"
      ],
      "metadata": {
        "id": "V8ohRRiNjM4a"
      },
      "execution_count": 14,
      "outputs": []
    },
    {
      "cell_type": "markdown",
      "source": [
        "**Defining the model architecture with LSTM and dropout**"
      ],
      "metadata": {
        "id": "KE56bc_ljQf5"
      }
    },
    {
      "cell_type": "code",
      "source": [
        "inputs = keras.Input(shape=(sequence_length, raw_data.shape[-1]))\n",
        "x = LSTM(64, return_sequences=True)(inputs)\n",
        "x = Dropout(0.2)(x)\n",
        "x = LSTM(64)(x)\n",
        "x = Dropout(0.2)(x)\n",
        "outputs = layers.Dense(1)(x)\n",
        "model = keras.Model(inputs, outputs)"
      ],
      "metadata": {
        "id": "DwWcepsxjVDP"
      },
      "execution_count": 15,
      "outputs": []
    },
    {
      "cell_type": "markdown",
      "source": [
        "**Create and trian the model**"
      ],
      "metadata": {
        "id": "ab78v8iijZFV"
      }
    },
    {
      "cell_type": "code",
      "source": [
        "model.compile(optimizer=\"adam\", loss=\"mse\", metrics=[\"mae\"])\n",
        "history = model.fit(train_dataset,\n",
        "                    epochs=15,\n",
        "                    validation_data=val_dataset,\n",
        "                    callbacks=callbacks)"
      ],
      "metadata": {
        "colab": {
          "base_uri": "https://localhost:8080/",
          "height": 0
        },
        "id": "2E_l_WXgjcLl",
        "outputId": "89da7f1a-e5b1-4cf1-a3eb-78d314d98889"
      },
      "execution_count": 16,
      "outputs": [
        {
          "output_type": "stream",
          "name": "stdout",
          "text": [
            "Epoch 1/15\n",
            "819/819 [==============================] - 19s 18ms/step - loss: 17.5695 - mae: 3.0553 - val_loss: 10.8218 - val_mae: 2.5801\n",
            "Epoch 2/15\n",
            "819/819 [==============================] - 15s 19ms/step - loss: 7.4791 - mae: 2.1204 - val_loss: 12.1848 - val_mae: 2.7319\n",
            "Epoch 3/15\n",
            "819/819 [==============================] - 16s 19ms/step - loss: 5.0866 - mae: 1.7405 - val_loss: 12.9395 - val_mae: 2.8063\n",
            "Epoch 4/15\n",
            "819/819 [==============================] - 15s 18ms/step - loss: 3.8539 - mae: 1.5149 - val_loss: 13.8466 - val_mae: 2.9255\n",
            "Epoch 5/15\n",
            "819/819 [==============================] - 15s 18ms/step - loss: 3.2509 - mae: 1.3883 - val_loss: 13.8450 - val_mae: 2.9176\n",
            "Epoch 6/15\n",
            "819/819 [==============================] - 15s 18ms/step - loss: 2.8574 - mae: 1.2993 - val_loss: 13.7963 - val_mae: 2.9036\n",
            "Epoch 7/15\n",
            "819/819 [==============================] - 15s 18ms/step - loss: 2.6615 - mae: 1.2513 - val_loss: 13.9856 - val_mae: 2.9303\n",
            "Epoch 8/15\n",
            "819/819 [==============================] - 15s 18ms/step - loss: 2.4173 - mae: 1.1935 - val_loss: 13.9180 - val_mae: 2.9340\n",
            "Epoch 9/15\n",
            "819/819 [==============================] - 15s 18ms/step - loss: 2.3643 - mae: 1.1732 - val_loss: 14.3050 - val_mae: 2.9594\n",
            "Epoch 10/15\n",
            "819/819 [==============================] - 15s 18ms/step - loss: 2.1190 - mae: 1.1153 - val_loss: 14.4225 - val_mae: 2.9889\n",
            "Epoch 11/15\n",
            "819/819 [==============================] - 15s 18ms/step - loss: 2.0193 - mae: 1.0883 - val_loss: 14.5751 - val_mae: 3.0018\n",
            "Epoch 12/15\n",
            "819/819 [==============================] - 15s 18ms/step - loss: 1.9743 - mae: 1.0726 - val_loss: 14.2994 - val_mae: 2.9643\n",
            "Epoch 13/15\n",
            "819/819 [==============================] - 15s 18ms/step - loss: 1.8471 - mae: 1.0372 - val_loss: 14.4284 - val_mae: 2.9955\n",
            "Epoch 14/15\n",
            "819/819 [==============================] - 15s 19ms/step - loss: 1.7707 - mae: 1.0153 - val_loss: 14.3098 - val_mae: 2.9705\n",
            "Epoch 15/15\n",
            "819/819 [==============================] - 15s 18ms/step - loss: 1.7452 - mae: 1.0063 - val_loss: 14.6636 - val_mae: 3.0011\n"
          ]
        }
      ]
    },
    {
      "cell_type": "markdown",
      "source": [
        "**Evaluating the model**"
      ],
      "metadata": {
        "id": "b1f0B_UDjjjr"
      }
    },
    {
      "cell_type": "code",
      "source": [
        "test_mae = model.evaluate(test_dataset)[1]\n",
        "print(f\"Test MAE: {test_mae:.2f}\")"
      ],
      "metadata": {
        "colab": {
          "base_uri": "https://localhost:8080/",
          "height": 0
        },
        "id": "vNmMRXUgjmmT",
        "outputId": "6203dadf-985e-48eb-de49-7620ee9aa7a4"
      },
      "execution_count": 18,
      "outputs": [
        {
          "output_type": "stream",
          "name": "stdout",
          "text": [
            "405/405 [==============================] - 4s 9ms/step - loss: 15.4686 - mae: 3.1200\n",
            "Test MAE: 3.12\n"
          ]
        }
      ]
    },
    {
      "cell_type": "markdown",
      "source": [
        "**Plotting the results**"
      ],
      "metadata": {
        "id": "S_BgSbyPjoj8"
      }
    },
    {
      "cell_type": "code",
      "source": [
        "import matplotlib.pyplot as plt\n",
        "loss = history.history[\"mae\"]\n",
        "val_loss = history.history[\"val_mae\"]\n",
        "epochs = range(1, len(loss) + 1)\n",
        "plt.figure()\n",
        "plt.plot(epochs, loss, \"bo\", label=\"Training MAE\")\n",
        "plt.plot(epochs, val_loss, \"b\", label=\"Validation MAE\")\n",
        "plt.title(\"Training and validation MAE\")\n",
        "plt.legend()\n",
        "plt.show()"
      ],
      "metadata": {
        "colab": {
          "base_uri": "https://localhost:8080/",
          "height": 452
        },
        "id": "2QfKh9f0jrFc",
        "outputId": "77d3ec74-a61a-48d4-84da-8fe8b0e413e1"
      },
      "execution_count": 19,
      "outputs": [
        {
          "output_type": "display_data",
          "data": {
            "text/plain": [
              "<Figure size 640x480 with 1 Axes>"
            ],
            "image/png": "[encoded data removed]"
          },
          "metadata": {}
        }
      ]
    },
    {
      "cell_type": "markdown",
      "source": [
        "# Using a combination of 1d_convnets & RNN"
      ],
      "metadata": {
        "id": "-DdwhMaal0C1"
      }
    },
    {
      "cell_type": "code",
      "source": [
        "from tensorflow.keras.layers import Conv1D, LSTM, Dropout, Dense\n",
        "from tensorflow.keras.models import Sequential"
      ],
      "metadata": {
        "id": "otBdo7k0l9dF"
      },
      "execution_count": 20,
      "outputs": []
    },
    {
      "cell_type": "markdown",
      "source": [
        "**Defining the model architecture with 1D convnets**"
      ],
      "metadata": {
        "id": "dTAc3JR2l-_X"
      }
    },
    {
      "cell_type": "code",
      "source": [
        "model = Sequential()\n",
        "model.add(Conv1D(32, 5, activation='relu', input_shape=(sequence_length, raw_data.shape[-1])))\n",
        "model.add(Conv1D(64, 5, activation='relu'))\n",
        "model.add(LSTM(64, dropout=0.2, recurrent_dropout=0.2))\n",
        "model.add(Dense(1))"
      ],
      "metadata": {
        "colab": {
          "base_uri": "https://localhost:8080/",
          "height": 0
        },
        "id": "wRnMG6GWmIEu",
        "outputId": "2d82fcdf-7ad8-46e9-c141-227aded1046e"
      },
      "execution_count": 21,
      "outputs": [
        {
          "output_type": "stream",
          "name": "stderr",
          "text": [
            "WARNING:tensorflow:Layer lstm_2 will not use cuDNN kernels since it doesn't meet the criteria. It will use a generic GPU kernel as fallback when running on GPU.\n"
          ]
        }
      ]
    },
    {
      "cell_type": "markdown",
      "source": [
        "**Compile the model**"
      ],
      "metadata": {
        "id": "eVCe8QHQmKwN"
      }
    },
    {
      "cell_type": "code",
      "source": [
        "model.compile(optimizer='adam', loss='mse', metrics=['mae'])"
      ],
      "metadata": {
        "id": "CE0LHjOXmNS7"
      },
      "execution_count": 22,
      "outputs": []
    },
    {
      "cell_type": "markdown",
      "source": [
        "**Train the model**"
      ],
      "metadata": {
        "id": "mERy9v2wmQ6s"
      }
    },
    {
      "cell_type": "code",
      "source": [
        "history = model.fit(train_dataset,\n",
        "                    epochs=15,\n",
        "                    validation_data=val_dataset,\n",
        "                    callbacks=callbacks)"
      ],
      "metadata": {
        "colab": {
          "base_uri": "https://localhost:8080/",
          "height": 0
        },
        "id": "mhjzrmoRmTnV",
        "outputId": "8d42efce-3329-490d-f9de-1f66934b7f18"
      },
      "execution_count": 23,
      "outputs": [
        {
          "output_type": "stream",
          "name": "stdout",
          "text": [
            "Epoch 1/15\n",
            "819/819 [==============================] - 235s 281ms/step - loss: 16.2991 - mae: 2.9564 - val_loss: 9.6344 - val_mae: 2.3955\n",
            "Epoch 2/15\n",
            "819/819 [==============================] - 228s 279ms/step - loss: 7.9609 - mae: 2.1966 - val_loss: 9.8910 - val_mae: 2.4515\n",
            "Epoch 3/15\n",
            "819/819 [==============================] - 226s 275ms/step - loss: 6.1291 - mae: 1.9162 - val_loss: 10.9939 - val_mae: 2.5868\n",
            "Epoch 4/15\n",
            "819/819 [==============================] - 227s 277ms/step - loss: 4.8233 - mae: 1.6906 - val_loss: 11.8565 - val_mae: 2.7088\n",
            "Epoch 5/15\n",
            "819/819 [==============================] - 229s 279ms/step - loss: 3.8821 - mae: 1.5127 - val_loss: 12.4706 - val_mae: 2.7789\n",
            "Epoch 6/15\n",
            "819/819 [==============================] - 228s 278ms/step - loss: 3.2702 - mae: 1.3900 - val_loss: 12.9060 - val_mae: 2.8217\n",
            "Epoch 7/15\n",
            "819/819 [==============================] - 231s 281ms/step - loss: 2.9037 - mae: 1.3090 - val_loss: 13.2490 - val_mae: 2.8575\n",
            "Epoch 8/15\n",
            "819/819 [==============================] - 228s 278ms/step - loss: 2.5829 - mae: 1.2348 - val_loss: 13.9775 - val_mae: 2.9485\n",
            "Epoch 9/15\n",
            "819/819 [==============================] - 226s 276ms/step - loss: 2.4004 - mae: 1.1912 - val_loss: 13.9824 - val_mae: 2.9421\n",
            "Epoch 10/15\n",
            "819/819 [==============================] - 227s 277ms/step - loss: 2.1636 - mae: 1.1309 - val_loss: 14.4340 - val_mae: 2.9861\n",
            "Epoch 11/15\n",
            "819/819 [==============================] - 227s 277ms/step - loss: 2.1111 - mae: 1.1152 - val_loss: 14.5109 - val_mae: 3.0039\n",
            "Epoch 12/15\n",
            "819/819 [==============================] - 227s 277ms/step - loss: 1.9013 - mae: 1.0625 - val_loss: 14.5462 - val_mae: 3.0026\n",
            "Epoch 13/15\n",
            "819/819 [==============================] - 226s 276ms/step - loss: 1.8228 - mae: 1.0403 - val_loss: 14.6122 - val_mae: 3.0168\n",
            "Epoch 14/15\n",
            "819/819 [==============================] - 229s 279ms/step - loss: 1.7491 - mae: 1.0196 - val_loss: 14.7248 - val_mae: 3.0125\n",
            "Epoch 15/15\n",
            "819/819 [==============================] - 229s 279ms/step - loss: 1.6612 - mae: 0.9922 - val_loss: 14.7367 - val_mae: 3.0165\n"
          ]
        }
      ]
    },
    {
      "cell_type": "markdown",
      "source": [
        "**Evaluating the model**"
      ],
      "metadata": {
        "id": "0WpMiCwImeWr"
      }
    },
    {
      "cell_type": "code",
      "source": [
        "test_mae = model.evaluate(test_dataset)[1]\n",
        "print(f\"Test MAE: {test_mae:.2f}\")"
      ],
      "metadata": {
        "colab": {
          "base_uri": "https://localhost:8080/",
          "height": 0
        },
        "id": "VrM6tugqmiB1",
        "outputId": "da7cb219-d38a-4904-eb72-0ed8a8b9367e"
      },
      "execution_count": 24,
      "outputs": [
        {
          "output_type": "stream",
          "name": "stdout",
          "text": [
            "405/405 [==============================] - 14s 34ms/step - loss: 15.3737 - mae: 3.1133\n",
            "Test MAE: 3.11\n"
          ]
        }
      ]
    },
    {
      "cell_type": "markdown",
      "source": [
        "**Plotting the results**"
      ],
      "metadata": {
        "id": "c-KKxYp4mkHL"
      }
    },
    {
      "cell_type": "code",
      "source": [
        "import matplotlib.pyplot as plt\n",
        "loss = history.history[\"mae\"]\n",
        "val_loss = history.history[\"val_mae\"]\n",
        "epochs = range(1, len(loss) + 1)\n",
        "plt.figure()\n",
        "plt.plot(epochs, loss, \"bo\", label=\"Training MAE\")\n",
        "plt.plot(epochs, val_loss, \"b\", label=\"Validation MAE\")\n",
        "plt.title(\"Training and validation MAE\")\n",
        "plt.legend()\n",
        "plt.show()"
      ],
      "metadata": {
        "colab": {
          "base_uri": "https://localhost:8080/",
          "height": 452
        },
        "id": "-Eytw_Pammmh",
        "outputId": "02c0345d-bd61-4c0c-f9d3-62ff6f115a2c"
      },
      "execution_count": 25,
      "outputs": [
        {
          "output_type": "display_data",
          "data": {
            "text/plain": [
              "<Figure size 640x480 with 1 Axes>"
            ],
            "image/png": "[encoded data removed]"
          },
          "metadata": {}
        }
      ]
    },
    {
      "cell_type": "markdown",
      "source": [
        "# Adjusting the number of units in each recurrent layer"
      ],
      "metadata": {
        "id": "Eoar2I6n1t7f"
      }
    },
    {
      "cell_type": "code",
      "source": [
        "from tensorflow.keras.layers import LSTM, Dropout, Dense\n",
        "from tensorflow.keras.models import Sequential"
      ],
      "metadata": {
        "id": "B7xMJcu310k5"
      },
      "execution_count": 26,
      "outputs": []
    },
    {
      "cell_type": "markdown",
      "source": [
        "**Define model architecture**"
      ],
      "metadata": {
        "id": "A9cwtUt8146G"
      }
    },
    {
      "cell_type": "code",
      "source": [
        "model = Sequential()\n",
        "model.add(LSTM(64, return_sequences=True, input_shape=(sequence_length, raw_data.shape[-1])))\n",
        "model.add(Dropout(0.2))\n",
        "model.add(LSTM(128))\n",
        "model.add(Dropout(0.2))\n",
        "model.add(Dense(1))"
      ],
      "metadata": {
        "id": "Mki1uH4c18Or"
      },
      "execution_count": 27,
      "outputs": []
    },
    {
      "cell_type": "markdown",
      "source": [
        "**Compile the model**"
      ],
      "metadata": {
        "id": "fdux3KvS1-9m"
      }
    },
    {
      "cell_type": "code",
      "source": [
        "model.compile(optimizer='adam', loss='mse', metrics=['mae'])"
      ],
      "metadata": {
        "id": "RPKn3OQm2Bgn"
      },
      "execution_count": 28,
      "outputs": []
    },
    {
      "cell_type": "markdown",
      "source": [
        "**Train the model**"
      ],
      "metadata": {
        "id": "1wCJCqEV2FBP"
      }
    },
    {
      "cell_type": "code",
      "source": [
        "history = model.fit(train_dataset,\n",
        "                    epochs=15,\n",
        "                    validation_data=val_dataset,\n",
        "                    callbacks=callbacks)"
      ],
      "metadata": {
        "colab": {
          "base_uri": "https://localhost:8080/",
          "height": 0
        },
        "id": "s4pUXKSM2OHs",
        "outputId": "b240f346-8e76-4799-9f46-6acebb765642"
      },
      "execution_count": 29,
      "outputs": [
        {
          "output_type": "stream",
          "name": "stdout",
          "text": [
            "Epoch 1/15\n",
            "819/819 [==============================] - 19s 19ms/step - loss: 16.1775 - mae: 3.0249 - val_loss: 9.8786 - val_mae: 2.4347\n",
            "Epoch 2/15\n",
            "819/819 [==============================] - 15s 19ms/step - loss: 8.1679 - mae: 2.2380 - val_loss: 11.7606 - val_mae: 2.6885\n",
            "Epoch 3/15\n",
            "819/819 [==============================] - 16s 19ms/step - loss: 5.6320 - mae: 1.8400 - val_loss: 13.4830 - val_mae: 2.9098\n",
            "Epoch 4/15\n",
            "819/819 [==============================] - 15s 19ms/step - loss: 3.7851 - mae: 1.5008 - val_loss: 14.2912 - val_mae: 3.0024\n",
            "Epoch 5/15\n",
            "819/819 [==============================] - 16s 19ms/step - loss: 2.8523 - mae: 1.2974 - val_loss: 14.3236 - val_mae: 2.9916\n",
            "Epoch 6/15\n",
            "819/819 [==============================] - 16s 19ms/step - loss: 2.4165 - mae: 1.1903 - val_loss: 14.5370 - val_mae: 3.0084\n",
            "Epoch 7/15\n",
            "819/819 [==============================] - 16s 19ms/step - loss: 2.1698 - mae: 1.1228 - val_loss: 14.2328 - val_mae: 2.9680\n",
            "Epoch 8/15\n",
            "819/819 [==============================] - 16s 19ms/step - loss: 2.0719 - mae: 1.0864 - val_loss: 13.3831 - val_mae: 2.8790\n",
            "Epoch 9/15\n",
            "819/819 [==============================] - 16s 19ms/step - loss: 2.0437 - mae: 1.0767 - val_loss: 14.3813 - val_mae: 2.9925\n",
            "Epoch 10/15\n",
            "819/819 [==============================] - 16s 19ms/step - loss: 1.6431 - mae: 0.9808 - val_loss: 14.2290 - val_mae: 2.9686\n",
            "Epoch 11/15\n",
            "819/819 [==============================] - 16s 19ms/step - loss: 1.5004 - mae: 0.9352 - val_loss: 13.9478 - val_mae: 2.9314\n",
            "Epoch 12/15\n",
            "819/819 [==============================] - 16s 19ms/step - loss: 1.4446 - mae: 0.9171 - val_loss: 13.9055 - val_mae: 2.9364\n",
            "Epoch 13/15\n",
            "819/819 [==============================] - 15s 19ms/step - loss: 1.3379 - mae: 0.8826 - val_loss: 13.7740 - val_mae: 2.9203\n",
            "Epoch 14/15\n",
            "819/819 [==============================] - 15s 19ms/step - loss: 1.2853 - mae: 0.8633 - val_loss: 13.9135 - val_mae: 2.9347\n",
            "Epoch 15/15\n",
            "819/819 [==============================] - 16s 19ms/step - loss: 1.2340 - mae: 0.8450 - val_loss: 13.8518 - val_mae: 2.9374\n"
          ]
        }
      ]
    },
    {
      "cell_type": "markdown",
      "source": [
        "**Evaluate the model**"
      ],
      "metadata": {
        "id": "nbX-tGiQ2H11"
      }
    },
    {
      "cell_type": "code",
      "source": [
        "test_mae = model.evaluate(test_dataset)[1]\n",
        "print(f\"Test MAE: {test_mae:.2f}\")"
      ],
      "metadata": {
        "colab": {
          "base_uri": "https://localhost:8080/",
          "height": 0
        },
        "id": "ieR-yZAt2KlD",
        "outputId": "01026183-cd08-44eb-8fad-80c57bf3c87f"
      },
      "execution_count": 30,
      "outputs": [
        {
          "output_type": "stream",
          "name": "stdout",
          "text": [
            "405/405 [==============================] - 4s 9ms/step - loss: 15.0211 - mae: 3.0818\n",
            "Test MAE: 3.08\n"
          ]
        }
      ]
    },
    {
      "cell_type": "markdown",
      "source": [
        "**Plot the results**"
      ],
      "metadata": {
        "id": "bk4v3ItO2K_u"
      }
    },
    {
      "cell_type": "code",
      "source": [
        "import matplotlib.pyplot as plt\n",
        "loss = history.history[\"mae\"]\n",
        "val_loss = history.history[\"val_mae\"]\n",
        "epochs = range(1, len(loss) + 1)\n",
        "plt.figure()\n",
        "plt.plot(epochs, loss, \"bo\", label=\"Training MAE\")\n",
        "plt.plot(epochs, val_loss, \"b\", label=\"Validation MAE\")\n",
        "plt.title(\"Training and validation MAE\")\n",
        "plt.legend()\n",
        "plt.show()"
      ],
      "metadata": {
        "colab": {
          "base_uri": "https://localhost:8080/",
          "height": 452
        },
        "id": "SSwzGc8-2Rlo",
        "outputId": "24c8b2f9-fa78-43e1-d766-822ec46050c4"
      },
      "execution_count": 31,
      "outputs": [
        {
          "output_type": "display_data",
          "data": {
            "text/plain": [
              "<Figure size 640x480 with 1 Axes>"
            ],
            "image/png": "[encoded data removed]"
          },
          "metadata": {}
        }
      ]
    }
  ]
}
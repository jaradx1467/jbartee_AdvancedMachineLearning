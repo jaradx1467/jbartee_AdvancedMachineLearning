{
  "nbformat": 4,
  "nbformat_minor": 0,
  "metadata": {
    "colab": {
      "provenance": [],
      "machine_shape": "hm",
      "gpuType": "V100"
    },
    "kernelspec": {
      "name": "python3",
      "display_name": "Python 3"
    },
    "language_info": {
      "name": "python"
    },
    "accelerator": "GPU"
  },
  "cells": [
    {
      "cell_type": "markdown",
      "source": [
        "# Step 1"
      ],
      "metadata": {
        "id": "eLsXuZR12wpa"
      }
    },
    {
      "cell_type": "code",
      "execution_count": 1,
      "metadata": {
        "id": "-M4d8CrttDuv",
        "colab": {
          "base_uri": "https://localhost:8080/",
          "height": 0
        },
        "outputId": "a8c349c5-a4ee-4496-d10d-ab43b4d58d47"
      },
      "outputs": [
        {
          "output_type": "stream",
          "name": "stdout",
          "text": [
            "Mounted at /content/gdrive\n"
          ]
        }
      ],
      "source": [
        "from google.colab import drive\n",
        "drive.mount('/content/gdrive')\n",
        "!unzip -qq /content/gdrive/MyDrive/kagglecatsanddogs_5340.zip"
      ]
    },
    {
      "cell_type": "code",
      "source": [
        "import os, shutil, pathlib\n",
        "\n",
        "original_dir = pathlib.Path(\"PetImages\")\n",
        "new_base_dir = pathlib.Path(\"cats_vs_dogs_small\")"
      ],
      "metadata": {
        "id": "Uc4adkE8207i"
      },
      "execution_count": 18,
      "outputs": []
    },
    {
      "cell_type": "code",
      "source": [
        "def make_subset(subset_name, start_index, end_index):\n",
        "   for category in (\"Cat\", \"Dog\"):\n",
        "       dir = new_base_dir / subset_name / category\n",
        "       os.makedirs(dir)\n",
        "       fnames = [f\"{i}.jpg\" for i in range(start_index, end_index)]\n",
        "       for fname in fnames:\n",
        "           shutil.copyfile(src=original_dir/category / fname,\n",
        "                           dst=dir / fname)"
      ],
      "metadata": {
        "id": "L_1jydBC23kC"
      },
      "execution_count": 19,
      "outputs": []
    },
    {
      "cell_type": "code",
      "source": [
        "make_subset(\"train\", start_index=667, end_index=1667)\n",
        "make_subset(\"validation\", start_index=1668, end_index=2168)\n",
        "make_subset(\"test\", start_index=2169, end_index=2669)"
      ],
      "metadata": {
        "id": "kDD_8Hp327YQ"
      },
      "execution_count": 20,
      "outputs": []
    },
    {
      "cell_type": "code",
      "source": [
        "import tensorflow as tf\n",
        "from tensorflow.keras import layers, models, optimizers\n",
        "from tensorflow.keras.preprocessing.image import ImageDataGenerator"
      ],
      "metadata": {
        "id": "L4u0j75Cf-EA"
      },
      "execution_count": 21,
      "outputs": []
    },
    {
      "cell_type": "markdown",
      "source": [
        "**Building the model**"
      ],
      "metadata": {
        "id": "DnYRTSXC4dxl"
      }
    },
    {
      "cell_type": "code",
      "source": [
        "img_size = (150, 150)\n",
        "batch_size = 64"
      ],
      "metadata": {
        "id": "d3DDIFl4ggFO"
      },
      "execution_count": 22,
      "outputs": []
    },
    {
      "cell_type": "code",
      "source": [
        "train_datagen = ImageDataGenerator(\n",
        "    rescale=1./255,\n",
        "    rotation_range=40,\n",
        "    width_shift_range=0.2,\n",
        "    height_shift_range=0.2,\n",
        "    shear_range=0.2,\n",
        "    zoom_range=0.2,\n",
        "    horizontal_flip=True,\n",
        "    fill_mode='nearest'\n",
        ")\n",
        "validation_datagen = ImageDataGenerator(rescale=1./255)"
      ],
      "metadata": {
        "id": "SykY7HPMgFH9"
      },
      "execution_count": 23,
      "outputs": []
    },
    {
      "cell_type": "code",
      "source": [
        "# Load and augment data\n",
        "train_generator = train_datagen.flow_from_directory(\n",
        "    new_base_dir / \"train\",\n",
        "    target_size=img_size,\n",
        "    batch_size=batch_size,\n",
        "    class_mode='binary'\n",
        ")\n",
        "validation_generator = validation_datagen.flow_from_directory(\n",
        "    new_base_dir / \"validation\",\n",
        "    target_size=img_size,\n",
        "    batch_size=batch_size,\n",
        "    class_mode='binary'\n",
        ")"
      ],
      "metadata": {
        "colab": {
          "base_uri": "https://localhost:8080/",
          "height": 0
        },
        "id": "5jOeLOaDgGh7",
        "outputId": "2179ab36-ab56-440f-c2c8-bf50b4054522"
      },
      "execution_count": 24,
      "outputs": [
        {
          "output_type": "stream",
          "name": "stdout",
          "text": [
            "Found 2000 images belonging to 2 classes.\n",
            "Found 1000 images belonging to 2 classes.\n"
          ]
        }
      ]
    },
    {
      "cell_type": "code",
      "source": [
        "test_generator = validation_datagen.flow_from_directory(\n",
        "    new_base_dir / \"test\",\n",
        "    target_size=img_size,\n",
        "    batch_size=batch_size,\n",
        "    class_mode='binary'\n",
        ")"
      ],
      "metadata": {
        "colab": {
          "base_uri": "https://localhost:8080/",
          "height": 0
        },
        "id": "fDIOEWPDJD7m",
        "outputId": "40d0bb04-7077-4b7d-d85a-8fbb9197c4df"
      },
      "execution_count": 25,
      "outputs": [
        {
          "output_type": "stream",
          "name": "stdout",
          "text": [
            "Found 1000 images belonging to 2 classes.\n"
          ]
        }
      ]
    },
    {
      "cell_type": "code",
      "source": [
        "model = models.Sequential([\n",
        "    layers.Conv2D(32, (3, 3), activation='relu', input_shape=(150, 150, 3)),\n",
        "    layers.MaxPooling2D(2, 2),\n",
        "    layers.Conv2D(64, (3, 3), activation='relu'),\n",
        "    layers.MaxPooling2D(2, 2),\n",
        "    layers.Conv2D(128, (3, 3), activation='relu'),\n",
        "    layers.MaxPooling2D(2, 2),\n",
        "    layers.Conv2D(128, (3, 3), activation='relu'),\n",
        "    layers.MaxPooling2D(2, 2),\n",
        "    layers.Flatten(),\n",
        "    layers.Dense(512, activation='relu'),\n",
        "    layers.Dense(1, activation='sigmoid')\n",
        "])"
      ],
      "metadata": {
        "id": "KIa1orIsgkyx"
      },
      "execution_count": 26,
      "outputs": []
    },
    {
      "cell_type": "code",
      "source": [
        "model.compile(loss='binary_crossentropy',\n",
        "              optimizer=optimizers.RMSprop(learning_rate=1e-4),\n",
        "              metrics=['accuracy'])"
      ],
      "metadata": {
        "id": "AEM0DJ34gpEk"
      },
      "execution_count": 27,
      "outputs": []
    },
    {
      "cell_type": "markdown",
      "source": [
        "**Train and fit the data to the model**"
      ],
      "metadata": {
        "id": "UUoe87BIp39I"
      }
    },
    {
      "cell_type": "code",
      "source": [
        "history = model.fit(\n",
        "    train_generator,\n",
        "    steps_per_epoch=train_generator.samples // batch_size,\n",
        "    epochs=30,\n",
        "    validation_data=validation_generator,\n",
        "    validation_steps=validation_generator.samples // batch_size\n",
        ")"
      ],
      "metadata": {
        "id": "QWvFTMbCgssA",
        "colab": {
          "base_uri": "https://localhost:8080/",
          "height": 0
        },
        "outputId": "37787913-85d2-425a-c923-52cd3d4992cf"
      },
      "execution_count": 28,
      "outputs": [
        {
          "output_type": "stream",
          "name": "stdout",
          "text": [
            "Epoch 1/30\n",
            "31/31 [==============================] - 15s 408ms/step - loss: 0.6926 - accuracy: 0.5108 - val_loss: 0.6884 - val_accuracy: 0.5000\n",
            "Epoch 2/30\n",
            "31/31 [==============================] - 14s 439ms/step - loss: 0.6893 - accuracy: 0.5237 - val_loss: 0.6831 - val_accuracy: 0.6104\n",
            "Epoch 3/30\n",
            "31/31 [==============================] - 13s 424ms/step - loss: 0.6846 - accuracy: 0.5475 - val_loss: 0.6751 - val_accuracy: 0.5990\n",
            "Epoch 4/30\n",
            "31/31 [==============================] - 14s 437ms/step - loss: 0.6813 - accuracy: 0.5708 - val_loss: 0.6826 - val_accuracy: 0.5229\n",
            "Epoch 5/30\n",
            "31/31 [==============================] - 13s 421ms/step - loss: 0.6778 - accuracy: 0.5764 - val_loss: 0.6624 - val_accuracy: 0.6135\n",
            "Epoch 6/30\n",
            "31/31 [==============================] - 14s 444ms/step - loss: 0.6691 - accuracy: 0.5943 - val_loss: 0.6702 - val_accuracy: 0.5688\n",
            "Epoch 7/30\n",
            "31/31 [==============================] - 14s 447ms/step - loss: 0.6641 - accuracy: 0.5945 - val_loss: 0.6509 - val_accuracy: 0.6292\n",
            "Epoch 8/30\n",
            "31/31 [==============================] - 14s 441ms/step - loss: 0.6623 - accuracy: 0.5922 - val_loss: 0.6453 - val_accuracy: 0.6385\n",
            "Epoch 9/30\n",
            "31/31 [==============================] - 13s 435ms/step - loss: 0.6609 - accuracy: 0.6173 - val_loss: 0.6572 - val_accuracy: 0.6021\n",
            "Epoch 10/30\n",
            "31/31 [==============================] - 13s 431ms/step - loss: 0.6551 - accuracy: 0.6188 - val_loss: 0.6331 - val_accuracy: 0.6542\n",
            "Epoch 11/30\n",
            "31/31 [==============================] - 13s 422ms/step - loss: 0.6544 - accuracy: 0.6204 - val_loss: 0.6533 - val_accuracy: 0.6104\n",
            "Epoch 12/30\n",
            "31/31 [==============================] - 13s 420ms/step - loss: 0.6521 - accuracy: 0.6111 - val_loss: 0.6431 - val_accuracy: 0.6229\n",
            "Epoch 13/30\n",
            "31/31 [==============================] - 13s 425ms/step - loss: 0.6485 - accuracy: 0.6193 - val_loss: 0.6182 - val_accuracy: 0.6656\n",
            "Epoch 14/30\n",
            "31/31 [==============================] - 14s 437ms/step - loss: 0.6440 - accuracy: 0.6240 - val_loss: 0.6723 - val_accuracy: 0.5677\n",
            "Epoch 15/30\n",
            "31/31 [==============================] - 13s 420ms/step - loss: 0.6329 - accuracy: 0.6482 - val_loss: 0.6113 - val_accuracy: 0.6542\n",
            "Epoch 16/30\n",
            "31/31 [==============================] - 13s 423ms/step - loss: 0.6342 - accuracy: 0.6431 - val_loss: 0.5971 - val_accuracy: 0.6833\n",
            "Epoch 17/30\n",
            "31/31 [==============================] - 13s 423ms/step - loss: 0.6299 - accuracy: 0.6467 - val_loss: 0.5973 - val_accuracy: 0.6687\n",
            "Epoch 18/30\n",
            "31/31 [==============================] - 13s 435ms/step - loss: 0.6248 - accuracy: 0.6529 - val_loss: 0.5776 - val_accuracy: 0.7052\n",
            "Epoch 19/30\n",
            "31/31 [==============================] - 13s 432ms/step - loss: 0.6202 - accuracy: 0.6513 - val_loss: 0.5783 - val_accuracy: 0.7167\n",
            "Epoch 20/30\n",
            "31/31 [==============================] - 13s 435ms/step - loss: 0.6106 - accuracy: 0.6761 - val_loss: 0.5704 - val_accuracy: 0.7219\n",
            "Epoch 21/30\n",
            "31/31 [==============================] - 14s 436ms/step - loss: 0.6113 - accuracy: 0.6612 - val_loss: 0.6830 - val_accuracy: 0.5813\n",
            "Epoch 22/30\n",
            "31/31 [==============================] - 13s 431ms/step - loss: 0.6129 - accuracy: 0.6767 - val_loss: 0.5643 - val_accuracy: 0.7063\n",
            "Epoch 23/30\n",
            "31/31 [==============================] - 13s 418ms/step - loss: 0.6104 - accuracy: 0.6575 - val_loss: 0.6464 - val_accuracy: 0.6115\n",
            "Epoch 24/30\n",
            "31/31 [==============================] - 13s 434ms/step - loss: 0.6064 - accuracy: 0.6643 - val_loss: 0.5584 - val_accuracy: 0.7135\n",
            "Epoch 25/30\n",
            "31/31 [==============================] - 13s 429ms/step - loss: 0.5943 - accuracy: 0.6860 - val_loss: 0.5582 - val_accuracy: 0.7042\n",
            "Epoch 26/30\n",
            "31/31 [==============================] - 13s 432ms/step - loss: 0.5991 - accuracy: 0.6736 - val_loss: 0.5578 - val_accuracy: 0.7188\n",
            "Epoch 27/30\n",
            "31/31 [==============================] - 13s 426ms/step - loss: 0.5926 - accuracy: 0.6808 - val_loss: 0.5344 - val_accuracy: 0.7292\n",
            "Epoch 28/30\n",
            "31/31 [==============================] - 13s 425ms/step - loss: 0.5867 - accuracy: 0.6818 - val_loss: 0.5639 - val_accuracy: 0.7063\n",
            "Epoch 29/30\n",
            "31/31 [==============================] - 13s 421ms/step - loss: 0.5917 - accuracy: 0.6787 - val_loss: 0.5494 - val_accuracy: 0.7271\n",
            "Epoch 30/30\n",
            "31/31 [==============================] - 13s 424ms/step - loss: 0.5901 - accuracy: 0.6808 - val_loss: 0.5276 - val_accuracy: 0.7229\n"
          ]
        }
      ]
    },
    {
      "cell_type": "markdown",
      "source": [
        "**Displaying curves of loss and accuracy during training**"
      ],
      "metadata": {
        "id": "-Q5HBewJAG4N"
      }
    },
    {
      "cell_type": "code",
      "source": [
        "import matplotlib.pyplot as plt\n",
        "accuracy = history.history[\"accuracy\"]\n",
        "val_accuracy = history.history[\"val_accuracy\"]\n",
        "loss = history.history[\"loss\"]\n",
        "val_loss = history.history[\"val_loss\"]\n",
        "epochs = range(1, len(accuracy) + 1)\n",
        "plt.plot(epochs, accuracy, \"bo\", label=\"Training accuracy\")\n",
        "plt.plot(epochs, val_accuracy, \"b\", label=\"Validation accuracy\")\n",
        "plt.title(\"Training and validation accuracy\")\n",
        "plt.legend()\n",
        "plt.figure()\n",
        "plt.plot(epochs, loss, \"bo\", label=\"Training loss\")\n",
        "plt.plot(epochs, val_loss, \"b\", label=\"Validation loss\")\n",
        "plt.title(\"Training and validation loss\")\n",
        "plt.legend()\n",
        "plt.show()"
      ],
      "metadata": {
        "colab": {
          "base_uri": "https://localhost:8080/",
          "height": 887
        },
        "id": "ybb-8R0gAJyE",
        "outputId": "10515518-f73e-4273-e574-7439c3acea78"
      },
      "execution_count": 29,
      "outputs": [
        {
          "output_type": "display_data",
          "data": {
            "text/plain": [
              "<Figure size 640x480 with 1 Axes>"
            ],
            "image/png": "[encoded data removed]"
          },
          "metadata": {}
        },
        {
          "output_type": "display_data",
          "data": {
            "text/plain": [
              "<Figure size 640x480 with 1 Axes>"
            ],
            "image/png": "[encoded data removed]"
          },
          "metadata": {}
        }
      ]
    },
    {
      "cell_type": "markdown",
      "source": [
        "**Test Model**"
      ],
      "metadata": {
        "id": "dn0v1DBiooYI"
      }
    },
    {
      "cell_type": "code",
      "source": [
        "# Evaluate the model on test data\n",
        "test_datagen = ImageDataGenerator(rescale=1./255)\n",
        "test_generator = test_datagen.flow_from_directory(\n",
        "    new_base_dir / \"test\",\n",
        "    target_size=img_size,\n",
        "    batch_size=batch_size,\n",
        "    class_mode='binary'\n",
        ")\n",
        "test_loss, test_acc = model.evaluate(test_generator)\n",
        "print('Test accuracy:', test_acc)"
      ],
      "metadata": {
        "colab": {
          "base_uri": "https://localhost:8080/",
          "height": 0
        },
        "id": "r9Wok61_I58H",
        "outputId": "b76c3c94-2d08-412a-a5e2-183125d82f87"
      },
      "execution_count": 30,
      "outputs": [
        {
          "output_type": "stream",
          "name": "stdout",
          "text": [
            "Found 1000 images belonging to 2 classes.\n",
            "16/16 [==============================] - 2s 111ms/step - loss: 0.5479 - accuracy: 0.7090\n",
            "Test accuracy: 0.7089999914169312\n"
          ]
        }
      ]
    },
    {
      "cell_type": "markdown",
      "source": [
        "# Step 2"
      ],
      "metadata": {
        "id": "Rd_tuL0S4pAY"
      }
    },
    {
      "cell_type": "code",
      "source": [
        "import os, shutil, pathlib\n",
        "\n",
        "original_dir = pathlib.Path(\"PetImages\")\n",
        "new_base_dir = pathlib.Path(\"cats_vs_dogs_large\")"
      ],
      "metadata": {
        "id": "u9Vx6-mQLL0q"
      },
      "execution_count": 31,
      "outputs": []
    },
    {
      "cell_type": "code",
      "source": [
        "def make_subset(subset_name, start_index, end_index):\n",
        "   for category in (\"Cat\", \"Dog\"):\n",
        "       dir = new_base_dir / subset_name / category\n",
        "       os.makedirs(dir)\n",
        "       fnames = [f\"{i}.jpg\" for i in range(start_index, end_index)]\n",
        "       for fname in fnames:\n",
        "           shutil.copyfile(src=original_dir/category / fname,\n",
        "                           dst=dir / fname)"
      ],
      "metadata": {
        "id": "ixImvNFwLP_m"
      },
      "execution_count": 32,
      "outputs": []
    },
    {
      "cell_type": "code",
      "source": [
        "make_subset(\"train\", start_index=667, end_index=2667)\n",
        "make_subset(\"validation\", start_index=2668, end_index=3168)\n",
        "make_subset(\"test\", start_index=3169, end_index=3669)"
      ],
      "metadata": {
        "id": "aX92VSdSLSuu"
      },
      "execution_count": 33,
      "outputs": []
    },
    {
      "cell_type": "code",
      "source": [
        "import tensorflow as tf\n",
        "from tensorflow.keras import layers, models, optimizers\n",
        "from tensorflow.keras.preprocessing.image import ImageDataGenerator"
      ],
      "metadata": {
        "id": "bUV_swlrLY8Y"
      },
      "execution_count": 34,
      "outputs": []
    },
    {
      "cell_type": "markdown",
      "source": [
        "**Building the model**"
      ],
      "metadata": {
        "id": "1A-8fcKdLeo_"
      }
    },
    {
      "cell_type": "code",
      "source": [
        "img_size = (150, 150)\n",
        "batch_size = 64"
      ],
      "metadata": {
        "id": "LYxs6NreLhSb"
      },
      "execution_count": 35,
      "outputs": []
    },
    {
      "cell_type": "code",
      "source": [
        "train_datagen = ImageDataGenerator(\n",
        "    rescale=1./255,\n",
        "    rotation_range=40,\n",
        "    width_shift_range=0.2,\n",
        "    height_shift_range=0.2,\n",
        "    shear_range=0.2,\n",
        "    zoom_range=0.2,\n",
        "    horizontal_flip=True,\n",
        "    fill_mode='nearest'\n",
        ")\n",
        "validation_datagen = ImageDataGenerator(rescale=1./255)"
      ],
      "metadata": {
        "id": "JLaE7IFZLqh5"
      },
      "execution_count": 36,
      "outputs": []
    },
    {
      "cell_type": "code",
      "source": [
        "# Load and augment data\n",
        "train_generator = train_datagen.flow_from_directory(\n",
        "    new_base_dir / \"train\",\n",
        "    target_size=img_size,\n",
        "    batch_size=batch_size,\n",
        "    class_mode='binary'\n",
        ")\n",
        "validation_generator = validation_datagen.flow_from_directory(\n",
        "    new_base_dir / \"validation\",\n",
        "    target_size=img_size,\n",
        "    batch_size=batch_size,\n",
        "    class_mode='binary'\n",
        ")"
      ],
      "metadata": {
        "colab": {
          "base_uri": "https://localhost:8080/",
          "height": 0
        },
        "id": "1hcBYUmLLutL",
        "outputId": "aef0b3d0-f3bb-48f6-8d7c-ca88266bfd6d"
      },
      "execution_count": 37,
      "outputs": [
        {
          "output_type": "stream",
          "name": "stdout",
          "text": [
            "Found 4000 images belonging to 2 classes.\n",
            "Found 1000 images belonging to 2 classes.\n"
          ]
        }
      ]
    },
    {
      "cell_type": "code",
      "source": [
        "test_generator = validation_datagen.flow_from_directory(\n",
        "    new_base_dir / \"test\",\n",
        "    target_size=img_size,\n",
        "    batch_size=batch_size,\n",
        "    class_mode='binary'\n",
        ")"
      ],
      "metadata": {
        "colab": {
          "base_uri": "https://localhost:8080/",
          "height": 0
        },
        "id": "w-V1FW6fL2M7",
        "outputId": "990148fc-3ce0-4bfe-c32c-fd5905a14047"
      },
      "execution_count": 38,
      "outputs": [
        {
          "output_type": "stream",
          "name": "stdout",
          "text": [
            "Found 1000 images belonging to 2 classes.\n"
          ]
        }
      ]
    },
    {
      "cell_type": "code",
      "source": [
        "model = models.Sequential([\n",
        "    layers.Conv2D(32, (3, 3), activation='relu', input_shape=(150, 150, 3)),\n",
        "    layers.MaxPooling2D(2, 2),\n",
        "    layers.Conv2D(64, (3, 3), activation='relu'),\n",
        "    layers.MaxPooling2D(2, 2),\n",
        "    layers.Conv2D(128, (3, 3), activation='relu'),\n",
        "    layers.MaxPooling2D(2, 2),\n",
        "    layers.Conv2D(128, (3, 3), activation='relu'),\n",
        "    layers.MaxPooling2D(2, 2),\n",
        "    layers.Flatten(),\n",
        "    layers.Dense(512, activation='relu'),\n",
        "    layers.Dense(1, activation='sigmoid')\n",
        "])"
      ],
      "metadata": {
        "id": "VTK1uGBHL6IV"
      },
      "execution_count": 39,
      "outputs": []
    },
    {
      "cell_type": "code",
      "source": [
        "model.compile(loss='binary_crossentropy',\n",
        "              optimizer=optimizers.RMSprop(learning_rate=1e-4),\n",
        "              metrics=['accuracy'])"
      ],
      "metadata": {
        "id": "Q9lyvjxkL9ac"
      },
      "execution_count": 40,
      "outputs": []
    },
    {
      "cell_type": "markdown",
      "source": [
        "**Train and fit the data to the model**"
      ],
      "metadata": {
        "id": "TsyzQelKpyia"
      }
    },
    {
      "cell_type": "code",
      "source": [
        "history = model.fit(\n",
        "    train_generator,\n",
        "    steps_per_epoch=train_generator.samples // batch_size,\n",
        "    epochs=30,\n",
        "    validation_data=validation_generator,\n",
        "    validation_steps=validation_generator.samples // batch_size\n",
        ")"
      ],
      "metadata": {
        "colab": {
          "base_uri": "https://localhost:8080/",
          "height": 0
        },
        "id": "o7QyY01uMATR",
        "outputId": "5cc1a831-d26a-422b-c231-716699d3fb76"
      },
      "execution_count": 41,
      "outputs": [
        {
          "output_type": "stream",
          "name": "stdout",
          "text": [
            "Epoch 1/30\n",
            "62/62 [==============================] - 26s 406ms/step - loss: 0.6918 - accuracy: 0.5211 - val_loss: 0.6853 - val_accuracy: 0.5177\n",
            "Epoch 2/30\n",
            "62/62 [==============================] - 25s 403ms/step - loss: 0.6822 - accuracy: 0.5534 - val_loss: 0.6885 - val_accuracy: 0.5146\n",
            "Epoch 3/30\n",
            "62/62 [==============================] - 25s 404ms/step - loss: 0.6762 - accuracy: 0.5663 - val_loss: 0.6866 - val_accuracy: 0.5448\n",
            "Epoch 4/30\n",
            "62/62 [==============================] - 25s 404ms/step - loss: 0.6700 - accuracy: 0.5767 - val_loss: 0.6595 - val_accuracy: 0.5958\n",
            "Epoch 5/30\n",
            "62/62 [==============================] - 25s 405ms/step - loss: 0.6628 - accuracy: 0.5932 - val_loss: 0.6705 - val_accuracy: 0.5781\n",
            "Epoch 6/30\n",
            "62/62 [==============================] - 25s 406ms/step - loss: 0.6560 - accuracy: 0.6065 - val_loss: 0.6794 - val_accuracy: 0.5667\n",
            "Epoch 7/30\n",
            "62/62 [==============================] - 25s 405ms/step - loss: 0.6535 - accuracy: 0.6096 - val_loss: 0.6659 - val_accuracy: 0.5875\n",
            "Epoch 8/30\n",
            "62/62 [==============================] - 25s 403ms/step - loss: 0.6403 - accuracy: 0.6176 - val_loss: 0.6355 - val_accuracy: 0.6083\n",
            "Epoch 9/30\n",
            "62/62 [==============================] - 26s 412ms/step - loss: 0.6356 - accuracy: 0.6253 - val_loss: 0.6562 - val_accuracy: 0.6062\n",
            "Epoch 10/30\n",
            "62/62 [==============================] - 25s 410ms/step - loss: 0.6261 - accuracy: 0.6519 - val_loss: 0.6040 - val_accuracy: 0.6542\n",
            "Epoch 11/30\n",
            "62/62 [==============================] - 26s 412ms/step - loss: 0.6239 - accuracy: 0.6474 - val_loss: 0.5979 - val_accuracy: 0.6625\n",
            "Epoch 12/30\n",
            "62/62 [==============================] - 26s 412ms/step - loss: 0.6104 - accuracy: 0.6623 - val_loss: 0.5831 - val_accuracy: 0.6823\n",
            "Epoch 13/30\n",
            "62/62 [==============================] - 25s 405ms/step - loss: 0.6096 - accuracy: 0.6651 - val_loss: 0.5739 - val_accuracy: 0.6875\n",
            "Epoch 14/30\n",
            "62/62 [==============================] - 26s 412ms/step - loss: 0.6050 - accuracy: 0.6657 - val_loss: 0.5782 - val_accuracy: 0.6792\n",
            "Epoch 15/30\n",
            "62/62 [==============================] - 24s 393ms/step - loss: 0.5971 - accuracy: 0.6687 - val_loss: 0.5761 - val_accuracy: 0.6792\n",
            "Epoch 16/30\n",
            "62/62 [==============================] - 25s 398ms/step - loss: 0.6005 - accuracy: 0.6679 - val_loss: 0.5670 - val_accuracy: 0.7104\n",
            "Epoch 17/30\n",
            "62/62 [==============================] - 25s 404ms/step - loss: 0.5908 - accuracy: 0.6789 - val_loss: 0.5741 - val_accuracy: 0.7010\n",
            "Epoch 18/30\n",
            "62/62 [==============================] - 26s 413ms/step - loss: 0.5931 - accuracy: 0.6745 - val_loss: 0.5841 - val_accuracy: 0.6854\n",
            "Epoch 19/30\n",
            "62/62 [==============================] - 25s 405ms/step - loss: 0.5941 - accuracy: 0.6776 - val_loss: 0.5590 - val_accuracy: 0.7135\n",
            "Epoch 20/30\n",
            "62/62 [==============================] - 26s 414ms/step - loss: 0.5787 - accuracy: 0.6944 - val_loss: 0.5560 - val_accuracy: 0.7083\n",
            "Epoch 21/30\n",
            "62/62 [==============================] - 25s 407ms/step - loss: 0.5710 - accuracy: 0.7010 - val_loss: 0.5469 - val_accuracy: 0.7219\n",
            "Epoch 22/30\n",
            "62/62 [==============================] - 25s 401ms/step - loss: 0.5744 - accuracy: 0.6936 - val_loss: 0.6047 - val_accuracy: 0.6750\n",
            "Epoch 23/30\n",
            "62/62 [==============================] - 25s 403ms/step - loss: 0.5718 - accuracy: 0.6956 - val_loss: 0.5518 - val_accuracy: 0.7104\n",
            "Epoch 24/30\n",
            "62/62 [==============================] - 26s 412ms/step - loss: 0.5668 - accuracy: 0.6989 - val_loss: 0.5345 - val_accuracy: 0.7271\n",
            "Epoch 25/30\n",
            "62/62 [==============================] - 25s 402ms/step - loss: 0.5636 - accuracy: 0.6966 - val_loss: 0.5612 - val_accuracy: 0.7125\n",
            "Epoch 26/30\n",
            "62/62 [==============================] - 25s 404ms/step - loss: 0.5571 - accuracy: 0.7091 - val_loss: 0.5393 - val_accuracy: 0.7219\n",
            "Epoch 27/30\n",
            "62/62 [==============================] - 25s 403ms/step - loss: 0.5640 - accuracy: 0.7015 - val_loss: 0.5321 - val_accuracy: 0.7323\n",
            "Epoch 28/30\n",
            "62/62 [==============================] - 25s 405ms/step - loss: 0.5619 - accuracy: 0.7068 - val_loss: 0.5264 - val_accuracy: 0.7323\n",
            "Epoch 29/30\n",
            "62/62 [==============================] - 25s 403ms/step - loss: 0.5574 - accuracy: 0.7050 - val_loss: 0.5184 - val_accuracy: 0.7375\n",
            "Epoch 30/30\n",
            "62/62 [==============================] - 25s 406ms/step - loss: 0.5508 - accuracy: 0.7111 - val_loss: 0.5146 - val_accuracy: 0.7417\n"
          ]
        }
      ]
    },
    {
      "cell_type": "markdown",
      "source": [
        "**Displaying curves of loss and accuracy during training**"
      ],
      "metadata": {
        "id": "rvQc353yob2v"
      }
    },
    {
      "cell_type": "code",
      "source": [
        "import matplotlib.pyplot as plt\n",
        "accuracy = history.history[\"accuracy\"]\n",
        "val_accuracy = history.history[\"val_accuracy\"]\n",
        "loss = history.history[\"loss\"]\n",
        "val_loss = history.history[\"val_loss\"]\n",
        "epochs = range(1, len(accuracy) + 1)\n",
        "plt.plot(epochs, accuracy, \"bo\", label=\"Training accuracy\")\n",
        "plt.plot(epochs, val_accuracy, \"b\", label=\"Validation accuracy\")\n",
        "plt.title(\"Training and validation accuracy\")\n",
        "plt.legend()\n",
        "plt.figure()\n",
        "plt.plot(epochs, loss, \"bo\", label=\"Training loss\")\n",
        "plt.plot(epochs, val_loss, \"b\", label=\"Validation loss\")\n",
        "plt.title(\"Training and validation loss\")\n",
        "plt.legend()\n",
        "plt.show()"
      ],
      "metadata": {
        "colab": {
          "base_uri": "https://localhost:8080/",
          "height": 887
        },
        "id": "Ga7nIfs-oXmG",
        "outputId": "45cf42ca-22c7-4ddc-b772-341662e042a0"
      },
      "execution_count": 42,
      "outputs": [
        {
          "output_type": "display_data",
          "data": {
            "text/plain": [
              "<Figure size 640x480 with 1 Axes>"
            ],
            "image/png": "[encoded data removed]"
          },
          "metadata": {}
        },
        {
          "output_type": "display_data",
          "data": {
            "text/plain": [
              "<Figure size 640x480 with 1 Axes>"
            ],
            "image/png": "[encoded data removed]"
          },
          "metadata": {}
        }
      ]
    },
    {
      "cell_type": "markdown",
      "source": [
        "**Test model**"
      ],
      "metadata": {
        "id": "ErogcOLmokoi"
      }
    },
    {
      "cell_type": "code",
      "source": [
        "# Evaluate the model on test data\n",
        "test_datagen = ImageDataGenerator(rescale=1./255)\n",
        "test_generator = test_datagen.flow_from_directory(\n",
        "    new_base_dir / \"test\",\n",
        "    target_size=img_size,\n",
        "    batch_size=batch_size,\n",
        "    class_mode='binary'\n",
        ")\n",
        "test_loss, test_acc = model.evaluate(test_generator)\n",
        "print('Test accuracy:', test_acc)"
      ],
      "metadata": {
        "colab": {
          "base_uri": "https://localhost:8080/",
          "height": 0
        },
        "id": "aDMotBkNoYCK",
        "outputId": "29e7367d-570f-49dd-f953-615e5c12274b"
      },
      "execution_count": 43,
      "outputs": [
        {
          "output_type": "stream",
          "name": "stdout",
          "text": [
            "Found 1000 images belonging to 2 classes.\n",
            "16/16 [==============================] - 2s 98ms/step - loss: 0.5108 - accuracy: 0.7440\n",
            "Test accuracy: 0.7440000176429749\n"
          ]
        }
      ]
    },
    {
      "cell_type": "markdown",
      "source": [
        "# Step 3"
      ],
      "metadata": {
        "id": "cxOJMh8ho031"
      }
    },
    {
      "cell_type": "code",
      "source": [
        "import os, shutil, pathlib\n",
        "\n",
        "original_dir = pathlib.Path(\"PetImages\")\n",
        "new_base_dir = pathlib.Path(\"cats_vs_dogs_large2\")"
      ],
      "metadata": {
        "id": "tdcUsMwao3s1"
      },
      "execution_count": 44,
      "outputs": []
    },
    {
      "cell_type": "code",
      "source": [
        "def make_subset(subset_name, start_index, end_index):\n",
        "   for category in (\"Cat\", \"Dog\"):\n",
        "       dir = new_base_dir / subset_name / category\n",
        "       os.makedirs(dir)\n",
        "       fnames = [f\"{i}.jpg\" for i in range(start_index, end_index)]\n",
        "       for fname in fnames:\n",
        "           shutil.copyfile(src=original_dir/category / fname,\n",
        "                           dst=dir / fname)"
      ],
      "metadata": {
        "id": "DN-tox0Vo89R"
      },
      "execution_count": 45,
      "outputs": []
    },
    {
      "cell_type": "code",
      "source": [
        "make_subset(\"train\", start_index=667, end_index=6667)\n",
        "make_subset(\"validation\", start_index=6668, end_index=7668)\n",
        "make_subset(\"test\", start_index=7669, end_index=8669)"
      ],
      "metadata": {
        "id": "TdeDXfhapAhu"
      },
      "execution_count": 46,
      "outputs": []
    },
    {
      "cell_type": "markdown",
      "source": [
        "**Building the model**"
      ],
      "metadata": {
        "id": "21zz3nbEpVx_"
      }
    },
    {
      "cell_type": "code",
      "source": [
        "img_size = (150, 150)\n",
        "batch_size = 64"
      ],
      "metadata": {
        "id": "rhERnfuvpZUc"
      },
      "execution_count": 47,
      "outputs": []
    },
    {
      "cell_type": "code",
      "source": [
        "train_datagen = ImageDataGenerator(\n",
        "    rescale=1./255,\n",
        "    rotation_range=40,\n",
        "    width_shift_range=0.2,\n",
        "    height_shift_range=0.2,\n",
        "    shear_range=0.2,\n",
        "    zoom_range=0.2,\n",
        "    horizontal_flip=True,\n",
        "    fill_mode='nearest'\n",
        ")\n",
        "validation_datagen = ImageDataGenerator(rescale=1./255)"
      ],
      "metadata": {
        "id": "xaz47JUDpcfL"
      },
      "execution_count": 48,
      "outputs": []
    },
    {
      "cell_type": "code",
      "source": [
        "# Load and augment data\n",
        "train_generator = train_datagen.flow_from_directory(\n",
        "    new_base_dir / \"train\",\n",
        "    target_size=img_size,\n",
        "    batch_size=batch_size,\n",
        "    class_mode='binary'\n",
        ")\n",
        "validation_generator = validation_datagen.flow_from_directory(\n",
        "    new_base_dir / \"validation\",\n",
        "    target_size=img_size,\n",
        "    batch_size=batch_size,\n",
        "    class_mode='binary'\n",
        ")"
      ],
      "metadata": {
        "colab": {
          "base_uri": "https://localhost:8080/",
          "height": 0
        },
        "id": "P6d0PVHspfyp",
        "outputId": "a778e90d-f95c-45fc-9030-9dafbc205abe"
      },
      "execution_count": 49,
      "outputs": [
        {
          "output_type": "stream",
          "name": "stdout",
          "text": [
            "Found 12000 images belonging to 2 classes.\n",
            "Found 2000 images belonging to 2 classes.\n"
          ]
        }
      ]
    },
    {
      "cell_type": "code",
      "source": [
        "test_generator = validation_datagen.flow_from_directory(\n",
        "    new_base_dir / \"test\",\n",
        "    target_size=img_size,\n",
        "    batch_size=batch_size,\n",
        "    class_mode='binary'\n",
        ")"
      ],
      "metadata": {
        "colab": {
          "base_uri": "https://localhost:8080/",
          "height": 0
        },
        "id": "s8TzFTyXpj3d",
        "outputId": "4ea9b615-005f-4938-b949-a674d39c3e4b"
      },
      "execution_count": 50,
      "outputs": [
        {
          "output_type": "stream",
          "name": "stdout",
          "text": [
            "Found 2000 images belonging to 2 classes.\n"
          ]
        }
      ]
    },
    {
      "cell_type": "code",
      "source": [
        "model = models.Sequential([\n",
        "    layers.Conv2D(32, (3, 3), activation='relu', input_shape=(150, 150, 3)),\n",
        "    layers.MaxPooling2D(2, 2),\n",
        "    layers.Conv2D(64, (3, 3), activation='relu'),\n",
        "    layers.MaxPooling2D(2, 2),\n",
        "    layers.Conv2D(128, (3, 3), activation='relu'),\n",
        "    layers.MaxPooling2D(2, 2),\n",
        "    layers.Conv2D(128, (3, 3), activation='relu'),\n",
        "    layers.MaxPooling2D(2, 2),\n",
        "    layers.Flatten(),\n",
        "    layers.Dense(512, activation='relu'),\n",
        "    layers.Dense(1, activation='sigmoid')\n",
        "])"
      ],
      "metadata": {
        "id": "0-ZVvcOSpoEM"
      },
      "execution_count": 51,
      "outputs": []
    },
    {
      "cell_type": "code",
      "source": [
        "model.compile(loss='binary_crossentropy',\n",
        "              optimizer=optimizers.RMSprop(learning_rate=1e-4),\n",
        "              metrics=['accuracy'])"
      ],
      "metadata": {
        "id": "WuS56F6spsPw"
      },
      "execution_count": 52,
      "outputs": []
    },
    {
      "cell_type": "markdown",
      "source": [
        "**Train and fit the data to the model**"
      ],
      "metadata": {
        "id": "yn9J1NSTpwvu"
      }
    },
    {
      "cell_type": "code",
      "source": [
        "history = model.fit(\n",
        "    train_generator,\n",
        "    steps_per_epoch=train_generator.samples // batch_size,\n",
        "    epochs=30,\n",
        "    validation_data=validation_generator,\n",
        "    validation_steps=validation_generator.samples // batch_size\n",
        ")"
      ],
      "metadata": {
        "colab": {
          "base_uri": "https://localhost:8080/",
          "height": 0
        },
        "id": "nX1QMZpIqCdG",
        "outputId": "c298da1a-19f1-4516-89b3-7106d155f545"
      },
      "execution_count": 53,
      "outputs": [
        {
          "output_type": "stream",
          "name": "stdout",
          "text": [
            "Epoch 1/30\n",
            "187/187 [==============================] - 76s 398ms/step - loss: 0.6858 - accuracy: 0.5478 - val_loss: 0.6909 - val_accuracy: 0.5171\n",
            "Epoch 2/30\n",
            "187/187 [==============================] - 74s 398ms/step - loss: 0.6683 - accuracy: 0.5914 - val_loss: 0.6642 - val_accuracy: 0.5786\n",
            "Epoch 3/30\n",
            "187/187 [==============================] - 73s 392ms/step - loss: 0.6490 - accuracy: 0.6203 - val_loss: 0.6243 - val_accuracy: 0.6361\n",
            "Epoch 4/30\n",
            "187/187 [==============================] - 74s 395ms/step - loss: 0.6254 - accuracy: 0.6500 - val_loss: 0.6125 - val_accuracy: 0.6492\n",
            "Epoch 5/30\n",
            "187/187 [==============================] - 74s 394ms/step - loss: 0.6082 - accuracy: 0.6603 - val_loss: 0.5723 - val_accuracy: 0.7016\n",
            "Epoch 6/30\n",
            "187/187 [==============================] - 73s 392ms/step - loss: 0.5965 - accuracy: 0.6733 - val_loss: 0.5996 - val_accuracy: 0.6593\n",
            "Epoch 7/30\n",
            "187/187 [==============================] - 74s 397ms/step - loss: 0.5832 - accuracy: 0.6880 - val_loss: 0.5515 - val_accuracy: 0.7102\n",
            "Epoch 8/30\n",
            "187/187 [==============================] - 75s 400ms/step - loss: 0.5689 - accuracy: 0.7018 - val_loss: 0.5592 - val_accuracy: 0.6996\n",
            "Epoch 9/30\n",
            "187/187 [==============================] - 75s 400ms/step - loss: 0.5619 - accuracy: 0.7082 - val_loss: 0.5241 - val_accuracy: 0.7349\n",
            "Epoch 10/30\n",
            "187/187 [==============================] - 74s 395ms/step - loss: 0.5566 - accuracy: 0.7132 - val_loss: 0.5227 - val_accuracy: 0.7419\n",
            "Epoch 11/30\n",
            "187/187 [==============================] - 74s 397ms/step - loss: 0.5491 - accuracy: 0.7172 - val_loss: 0.6549 - val_accuracy: 0.6341\n",
            "Epoch 12/30\n",
            "187/187 [==============================] - 75s 403ms/step - loss: 0.5420 - accuracy: 0.7250 - val_loss: 0.5050 - val_accuracy: 0.7525\n",
            "Epoch 13/30\n",
            "187/187 [==============================] - 73s 391ms/step - loss: 0.5361 - accuracy: 0.7333 - val_loss: 0.4901 - val_accuracy: 0.7697\n",
            "Epoch 14/30\n",
            "187/187 [==============================] - 74s 395ms/step - loss: 0.5314 - accuracy: 0.7268 - val_loss: 0.5062 - val_accuracy: 0.7530\n",
            "Epoch 15/30\n",
            "187/187 [==============================] - 73s 390ms/step - loss: 0.5237 - accuracy: 0.7388 - val_loss: 0.4792 - val_accuracy: 0.7757\n",
            "Epoch 16/30\n",
            "187/187 [==============================] - 74s 395ms/step - loss: 0.5210 - accuracy: 0.7385 - val_loss: 0.4943 - val_accuracy: 0.7601\n",
            "Epoch 17/30\n",
            "187/187 [==============================] - 75s 399ms/step - loss: 0.5102 - accuracy: 0.7468 - val_loss: 0.4617 - val_accuracy: 0.7878\n",
            "Epoch 18/30\n",
            "187/187 [==============================] - 74s 394ms/step - loss: 0.5056 - accuracy: 0.7525 - val_loss: 0.4739 - val_accuracy: 0.7702\n",
            "Epoch 19/30\n",
            "187/187 [==============================] - 74s 395ms/step - loss: 0.5017 - accuracy: 0.7523 - val_loss: 0.5443 - val_accuracy: 0.7122\n",
            "Epoch 20/30\n",
            "187/187 [==============================] - 76s 407ms/step - loss: 0.4951 - accuracy: 0.7574 - val_loss: 0.4600 - val_accuracy: 0.7918\n",
            "Epoch 21/30\n",
            "187/187 [==============================] - 74s 396ms/step - loss: 0.4898 - accuracy: 0.7581 - val_loss: 0.4475 - val_accuracy: 0.7954\n",
            "Epoch 22/30\n",
            "187/187 [==============================] - 76s 406ms/step - loss: 0.4876 - accuracy: 0.7620 - val_loss: 0.4261 - val_accuracy: 0.8004\n",
            "Epoch 23/30\n",
            "187/187 [==============================] - 75s 400ms/step - loss: 0.4829 - accuracy: 0.7650 - val_loss: 0.5157 - val_accuracy: 0.7616\n",
            "Epoch 24/30\n",
            "187/187 [==============================] - 74s 396ms/step - loss: 0.4759 - accuracy: 0.7676 - val_loss: 0.4406 - val_accuracy: 0.7913\n",
            "Epoch 25/30\n",
            "187/187 [==============================] - 73s 388ms/step - loss: 0.4688 - accuracy: 0.7760 - val_loss: 0.4694 - val_accuracy: 0.7908\n",
            "Epoch 26/30\n",
            "187/187 [==============================] - 71s 378ms/step - loss: 0.4698 - accuracy: 0.7740 - val_loss: 0.4220 - val_accuracy: 0.8080\n",
            "Epoch 27/30\n",
            "187/187 [==============================] - 71s 378ms/step - loss: 0.4605 - accuracy: 0.7806 - val_loss: 0.4122 - val_accuracy: 0.8115\n",
            "Epoch 28/30\n",
            "187/187 [==============================] - 71s 380ms/step - loss: 0.4613 - accuracy: 0.7782 - val_loss: 0.4203 - val_accuracy: 0.8070\n",
            "Epoch 29/30\n",
            "187/187 [==============================] - 72s 386ms/step - loss: 0.4619 - accuracy: 0.7785 - val_loss: 0.4145 - val_accuracy: 0.8044\n",
            "Epoch 30/30\n",
            "187/187 [==============================] - 73s 391ms/step - loss: 0.4547 - accuracy: 0.7808 - val_loss: 0.4105 - val_accuracy: 0.8170\n"
          ]
        }
      ]
    },
    {
      "cell_type": "markdown",
      "source": [
        "**Displaying curves of loss and accuracy during training**"
      ],
      "metadata": {
        "id": "954vcKf41abf"
      }
    },
    {
      "cell_type": "code",
      "source": [
        "import matplotlib.pyplot as plt\n",
        "accuracy = history.history[\"accuracy\"]\n",
        "val_accuracy = history.history[\"val_accuracy\"]\n",
        "loss = history.history[\"loss\"]\n",
        "val_loss = history.history[\"val_loss\"]\n",
        "epochs = range(1, len(accuracy) + 1)\n",
        "plt.plot(epochs, accuracy, \"bo\", label=\"Training accuracy\")\n",
        "plt.plot(epochs, val_accuracy, \"b\", label=\"Validation accuracy\")\n",
        "plt.title(\"Training and validation accuracy\")\n",
        "plt.legend()\n",
        "plt.figure()\n",
        "plt.plot(epochs, loss, \"bo\", label=\"Training loss\")\n",
        "plt.plot(epochs, val_loss, \"b\", label=\"Validation loss\")\n",
        "plt.title(\"Training and validation loss\")\n",
        "plt.legend()\n",
        "plt.show()"
      ],
      "metadata": {
        "colab": {
          "base_uri": "https://localhost:8080/",
          "height": 887
        },
        "id": "E-9z3BXt1es7",
        "outputId": "d7158913-b3e3-4230-a6de-1a7f98891e69"
      },
      "execution_count": 54,
      "outputs": [
        {
          "output_type": "display_data",
          "data": {
            "text/plain": [
              "<Figure size 640x480 with 1 Axes>"
            ],
            "image/png": "[encoded data removed]"
          },
          "metadata": {}
        },
        {
          "output_type": "display_data",
          "data": {
            "text/plain": [
              "<Figure size 640x480 with 1 Axes>"
            ],
            "image/png": "[encoded data removed]"
          },
          "metadata": {}
        }
      ]
    },
    {
      "cell_type": "markdown",
      "source": [
        "**Test the model**"
      ],
      "metadata": {
        "id": "5IFqJotH1izQ"
      }
    },
    {
      "cell_type": "code",
      "source": [
        "# Evaluate the model on test data\n",
        "test_datagen = ImageDataGenerator(rescale=1./255)\n",
        "test_generator = test_datagen.flow_from_directory(\n",
        "    new_base_dir / \"test\",\n",
        "    target_size=img_size,\n",
        "    batch_size=batch_size,\n",
        "    class_mode='binary'\n",
        ")\n",
        "test_loss, test_acc = model.evaluate(test_generator)\n",
        "print('Test accuracy:', test_acc)"
      ],
      "metadata": {
        "colab": {
          "base_uri": "https://localhost:8080/",
          "height": 0
        },
        "id": "sC8IHVVw1lK3",
        "outputId": "cdfb8e60-609f-4c38-bd55-b1a79336626f"
      },
      "execution_count": 55,
      "outputs": [
        {
          "output_type": "stream",
          "name": "stdout",
          "text": [
            "Found 2000 images belonging to 2 classes.\n",
            "32/32 [==============================] - 3s 94ms/step - loss: 0.3977 - accuracy: 0.8185\n",
            "Test accuracy: 0.8184999823570251\n"
          ]
        }
      ]
    },
    {
      "cell_type": "markdown",
      "source": [
        "# Step 4"
      ],
      "metadata": {
        "id": "8tLSOXDe3ANf"
      }
    },
    {
      "cell_type": "code",
      "source": [
        "import tensorflow as tf\n",
        "from tensorflow.keras import layers, models, optimizers\n",
        "from tensorflow.keras.preprocessing.image import ImageDataGenerator"
      ],
      "metadata": {
        "id": "VtVTj3Jf3Co9"
      },
      "execution_count": 2,
      "outputs": []
    },
    {
      "cell_type": "code",
      "source": [
        "import os, shutil, pathlib\n",
        "\n",
        "original_dir = pathlib.Path(\"PetImages\")\n",
        "new_base_dir = pathlib.Path(\"cats_vs_dogs_pretrained\")"
      ],
      "metadata": {
        "id": "QdNBRE823763"
      },
      "execution_count": 3,
      "outputs": []
    },
    {
      "cell_type": "code",
      "source": [
        "def make_subset(subset_name, start_index, end_index):\n",
        "   for category in (\"Cat\", \"Dog\"):\n",
        "       dir = new_base_dir / subset_name / category\n",
        "       os.makedirs(dir)\n",
        "       fnames = [f\"{i}.jpg\" for i in range(start_index, end_index)]\n",
        "       for fname in fnames:\n",
        "           shutil.copyfile(src=original_dir/category / fname,\n",
        "                           dst=dir / fname)"
      ],
      "metadata": {
        "id": "siRTzNAW4IgC"
      },
      "execution_count": 4,
      "outputs": []
    },
    {
      "cell_type": "code",
      "source": [
        "make_subset(\"train\", start_index=667, end_index=6667)\n",
        "make_subset(\"validation\", start_index=6668, end_index=7668)\n",
        "make_subset(\"test\", start_index=7669, end_index=8669)"
      ],
      "metadata": {
        "id": "pzlVjepW4NHr"
      },
      "execution_count": 5,
      "outputs": []
    },
    {
      "cell_type": "markdown",
      "source": [
        "**Building the model**"
      ],
      "metadata": {
        "id": "st4aLUZn4eWu"
      }
    },
    {
      "cell_type": "code",
      "source": [
        "img_size = (150, 150)\n",
        "batch_size = 64"
      ],
      "metadata": {
        "id": "RZ6CfRg64ZNz"
      },
      "execution_count": 6,
      "outputs": []
    },
    {
      "cell_type": "code",
      "source": [
        "train_datagen = ImageDataGenerator(\n",
        "    rescale=1./255,\n",
        "    rotation_range=40,\n",
        "    width_shift_range=0.2,\n",
        "    height_shift_range=0.2,\n",
        "    shear_range=0.2,\n",
        "    zoom_range=0.2,\n",
        "    horizontal_flip=True,\n",
        "    fill_mode='nearest'\n",
        ")\n",
        "validation_datagen = ImageDataGenerator(rescale=1./255)"
      ],
      "metadata": {
        "id": "n_HCjTS74j7k"
      },
      "execution_count": 7,
      "outputs": []
    },
    {
      "cell_type": "code",
      "source": [
        "pretrained_model = tf.keras.applications.VGG16(\n",
        "    weights='imagenet',\n",
        "    include_top=False,\n",
        "    input_shape=(150, 150, 3)\n",
        ")"
      ],
      "metadata": {
        "colab": {
          "base_uri": "https://localhost:8080/",
          "height": 0
        },
        "id": "9H4rJuJI4mp_",
        "outputId": "c9d2f380-4cec-4f0c-afa7-7dffaf660a53"
      },
      "execution_count": 8,
      "outputs": [
        {
          "output_type": "stream",
          "name": "stdout",
          "text": [
            "Downloading data from https://storage.googleapis.com/tensorflow/keras-applications/vgg16/vgg16_weights_tf_dim_ordering_tf_kernels_notop.h5\n",
            "58889256/58889256 [==============================] - 2s 0us/step\n"
          ]
        }
      ]
    },
    {
      "cell_type": "code",
      "source": [
        "pretrained_model.trainable = False"
      ],
      "metadata": {
        "id": "zre0K0eo4pvH"
      },
      "execution_count": 9,
      "outputs": []
    },
    {
      "cell_type": "code",
      "source": [
        "model_pretrained = models.Sequential([\n",
        "    pretrained_model,\n",
        "    layers.Flatten(),\n",
        "    layers.Dense(256, activation='relu'),\n",
        "    layers.Dropout(0.5),\n",
        "    layers.Dense(1, activation='sigmoid')\n",
        "])"
      ],
      "metadata": {
        "id": "1o4LNtIA4r5P"
      },
      "execution_count": 10,
      "outputs": []
    },
    {
      "cell_type": "code",
      "source": [
        "model_pretrained.compile(loss='binary_crossentropy',\n",
        "                         optimizer=optimizers.RMSprop(learning_rate=2e-5),\n",
        "                         metrics=['accuracy'])"
      ],
      "metadata": {
        "id": "Sta3MnbX4uK-"
      },
      "execution_count": 11,
      "outputs": []
    },
    {
      "cell_type": "code",
      "source": [
        "train_generator = train_datagen.flow_from_directory(\n",
        "    new_base_dir / \"train\",\n",
        "    target_size=img_size,\n",
        "    batch_size=batch_size,\n",
        "    class_mode='binary'\n",
        ")\n",
        "\n",
        "validation_generator = validation_datagen.flow_from_directory(\n",
        "    new_base_dir / \"validation\",\n",
        "    target_size=img_size,\n",
        "    batch_size=batch_size,\n",
        "    class_mode='binary'\n",
        ")"
      ],
      "metadata": {
        "colab": {
          "base_uri": "https://localhost:8080/",
          "height": 0
        },
        "id": "UlhN5ZNV4xaf",
        "outputId": "b0edf86c-30a8-49fc-d986-a11ed19dee01"
      },
      "execution_count": 12,
      "outputs": [
        {
          "output_type": "stream",
          "name": "stdout",
          "text": [
            "Found 12000 images belonging to 2 classes.\n",
            "Found 2000 images belonging to 2 classes.\n"
          ]
        }
      ]
    },
    {
      "cell_type": "code",
      "source": [
        "test_generator = validation_datagen.flow_from_directory(\n",
        "    new_base_dir / \"test\",\n",
        "    target_size=img_size,\n",
        "    batch_size=batch_size,\n",
        "    class_mode='binary'\n",
        ")"
      ],
      "metadata": {
        "colab": {
          "base_uri": "https://localhost:8080/",
          "height": 0
        },
        "id": "fWp6foOa5AM5",
        "outputId": "a6c9c92c-3af2-485f-fafc-49ccc5574dc3"
      },
      "execution_count": 13,
      "outputs": [
        {
          "output_type": "stream",
          "name": "stdout",
          "text": [
            "Found 2000 images belonging to 2 classes.\n"
          ]
        }
      ]
    },
    {
      "cell_type": "code",
      "source": [
        "history_pretrained = model_pretrained.fit(\n",
        "    train_generator,\n",
        "    steps_per_epoch=train_generator.samples // batch_size,\n",
        "    epochs=30,\n",
        "    validation_data=validation_generator,\n",
        "    validation_steps=validation_generator.samples // batch_size\n",
        ")"
      ],
      "metadata": {
        "colab": {
          "base_uri": "https://localhost:8080/",
          "height": 0
        },
        "id": "8By9_dno5Gyz",
        "outputId": "1914d991-a72f-428f-8099-86f1b678e283"
      },
      "execution_count": 14,
      "outputs": [
        {
          "output_type": "stream",
          "name": "stdout",
          "text": [
            "Epoch 1/30\n",
            "187/187 [==============================] - 77s 380ms/step - loss: 0.5742 - accuracy: 0.6976 - val_loss: 0.3795 - val_accuracy: 0.8518\n",
            "Epoch 2/30\n",
            "187/187 [==============================] - 73s 390ms/step - loss: 0.4442 - accuracy: 0.7891 - val_loss: 0.3249 - val_accuracy: 0.8644\n",
            "Epoch 3/30\n",
            "187/187 [==============================] - 72s 383ms/step - loss: 0.4114 - accuracy: 0.8111 - val_loss: 0.3067 - val_accuracy: 0.8664\n",
            "Epoch 4/30\n",
            "187/187 [==============================] - 72s 383ms/step - loss: 0.3839 - accuracy: 0.8264 - val_loss: 0.3044 - val_accuracy: 0.8710\n",
            "Epoch 5/30\n",
            "187/187 [==============================] - 72s 384ms/step - loss: 0.3724 - accuracy: 0.8282 - val_loss: 0.2889 - val_accuracy: 0.8730\n",
            "Epoch 6/30\n",
            "187/187 [==============================] - 73s 389ms/step - loss: 0.3659 - accuracy: 0.8327 - val_loss: 0.2791 - val_accuracy: 0.8816\n",
            "Epoch 7/30\n",
            "187/187 [==============================] - 72s 386ms/step - loss: 0.3571 - accuracy: 0.8364 - val_loss: 0.2761 - val_accuracy: 0.8831\n",
            "Epoch 8/30\n",
            "187/187 [==============================] - 73s 389ms/step - loss: 0.3449 - accuracy: 0.8459 - val_loss: 0.2753 - val_accuracy: 0.8826\n",
            "Epoch 9/30\n",
            "187/187 [==============================] - 72s 383ms/step - loss: 0.3509 - accuracy: 0.8425 - val_loss: 0.2675 - val_accuracy: 0.8866\n",
            "Epoch 10/30\n",
            "187/187 [==============================] - 71s 380ms/step - loss: 0.3353 - accuracy: 0.8534 - val_loss: 0.2723 - val_accuracy: 0.8881\n",
            "Epoch 11/30\n",
            "187/187 [==============================] - 71s 381ms/step - loss: 0.3360 - accuracy: 0.8512 - val_loss: 0.2618 - val_accuracy: 0.8891\n",
            "Epoch 12/30\n",
            "187/187 [==============================] - 74s 393ms/step - loss: 0.3298 - accuracy: 0.8564 - val_loss: 0.2624 - val_accuracy: 0.8916\n",
            "Epoch 13/30\n",
            "187/187 [==============================] - 72s 386ms/step - loss: 0.3289 - accuracy: 0.8560 - val_loss: 0.2649 - val_accuracy: 0.8891\n",
            "Epoch 14/30\n",
            "187/187 [==============================] - 72s 387ms/step - loss: 0.3218 - accuracy: 0.8620 - val_loss: 0.2621 - val_accuracy: 0.8896\n",
            "Epoch 15/30\n",
            "187/187 [==============================] - 71s 379ms/step - loss: 0.3239 - accuracy: 0.8553 - val_loss: 0.2590 - val_accuracy: 0.8876\n",
            "Epoch 16/30\n",
            "187/187 [==============================] - 72s 385ms/step - loss: 0.3150 - accuracy: 0.8610 - val_loss: 0.2619 - val_accuracy: 0.8901\n",
            "Epoch 17/30\n",
            "187/187 [==============================] - 71s 377ms/step - loss: 0.3187 - accuracy: 0.8577 - val_loss: 0.2616 - val_accuracy: 0.8911\n",
            "Epoch 18/30\n",
            "187/187 [==============================] - 72s 383ms/step - loss: 0.3249 - accuracy: 0.8565 - val_loss: 0.2562 - val_accuracy: 0.8891\n",
            "Epoch 19/30\n",
            "187/187 [==============================] - 72s 383ms/step - loss: 0.3099 - accuracy: 0.8622 - val_loss: 0.2647 - val_accuracy: 0.8906\n",
            "Epoch 20/30\n",
            "187/187 [==============================] - 71s 378ms/step - loss: 0.3088 - accuracy: 0.8675 - val_loss: 0.2543 - val_accuracy: 0.8921\n",
            "Epoch 21/30\n",
            "187/187 [==============================] - 72s 383ms/step - loss: 0.3022 - accuracy: 0.8651 - val_loss: 0.2541 - val_accuracy: 0.8926\n",
            "Epoch 22/30\n",
            "187/187 [==============================] - 72s 385ms/step - loss: 0.3090 - accuracy: 0.8642 - val_loss: 0.2522 - val_accuracy: 0.8972\n",
            "Epoch 23/30\n",
            "187/187 [==============================] - 71s 378ms/step - loss: 0.3084 - accuracy: 0.8657 - val_loss: 0.2478 - val_accuracy: 0.8967\n",
            "Epoch 24/30\n",
            "187/187 [==============================] - 71s 378ms/step - loss: 0.3025 - accuracy: 0.8684 - val_loss: 0.2543 - val_accuracy: 0.8962\n",
            "Epoch 25/30\n",
            "187/187 [==============================] - 71s 378ms/step - loss: 0.2975 - accuracy: 0.8710 - val_loss: 0.2532 - val_accuracy: 0.8967\n",
            "Epoch 26/30\n",
            "187/187 [==============================] - 72s 385ms/step - loss: 0.2994 - accuracy: 0.8699 - val_loss: 0.2525 - val_accuracy: 0.8957\n",
            "Epoch 27/30\n",
            "187/187 [==============================] - 72s 385ms/step - loss: 0.2962 - accuracy: 0.8704 - val_loss: 0.2458 - val_accuracy: 0.8977\n",
            "Epoch 28/30\n",
            "187/187 [==============================] - 72s 385ms/step - loss: 0.2944 - accuracy: 0.8682 - val_loss: 0.2479 - val_accuracy: 0.8987\n",
            "Epoch 29/30\n",
            "187/187 [==============================] - 71s 381ms/step - loss: 0.2948 - accuracy: 0.8701 - val_loss: 0.2488 - val_accuracy: 0.8987\n",
            "Epoch 30/30\n",
            "187/187 [==============================] - 74s 395ms/step - loss: 0.3041 - accuracy: 0.8644 - val_loss: 0.2422 - val_accuracy: 0.8997\n"
          ]
        }
      ]
    },
    {
      "cell_type": "markdown",
      "source": [
        "**Test the model**"
      ],
      "metadata": {
        "id": "LA8T2jmU57h8"
      }
    },
    {
      "cell_type": "code",
      "source": [
        "test_generator = validation_datagen.flow_from_directory(\n",
        "    new_base_dir / \"test\",\n",
        "    target_size=img_size,\n",
        "    batch_size=batch_size,\n",
        "    class_mode='binary',\n",
        "    shuffle=False\n",
        ")"
      ],
      "metadata": {
        "colab": {
          "base_uri": "https://localhost:8080/",
          "height": 0
        },
        "id": "oRITpkZD568a",
        "outputId": "fa99594b-7561-459e-ae90-20f3f63f4920"
      },
      "execution_count": 16,
      "outputs": [
        {
          "output_type": "stream",
          "name": "stdout",
          "text": [
            "Found 2000 images belonging to 2 classes.\n"
          ]
        }
      ]
    },
    {
      "cell_type": "code",
      "source": [
        "test_loss_pretrained, test_acc_pretrained = model_pretrained.evaluate(test_generator)\n",
        "print('Pretrained model test accuracy:', test_acc_pretrained)"
      ],
      "metadata": {
        "colab": {
          "base_uri": "https://localhost:8080/",
          "height": 0
        },
        "id": "B0k2DGSG6GV3",
        "outputId": "5040f107-c921-43a3-9b0f-3e6563c320ba"
      },
      "execution_count": 17,
      "outputs": [
        {
          "output_type": "stream",
          "name": "stdout",
          "text": [
            "32/32 [==============================] - 4s 127ms/step - loss: 0.2077 - accuracy: 0.9140\n",
            "Pretrained model test accuracy: 0.9139999747276306\n"
          ]
        }
      ]
    }
  ]
}
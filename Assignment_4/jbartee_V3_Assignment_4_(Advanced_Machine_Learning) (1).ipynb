{
  "nbformat": 4,
  "nbformat_minor": 0,
  "metadata": {
    "colab": {
      "provenance": [],
      "machine_shape": "hm",
      "gpuType": "L4"
    },
    "kernelspec": {
      "name": "python3",
      "display_name": "Python 3"
    },
    "language_info": {
      "name": "python"
    },
    "accelerator": "GPU"
  },
  "cells": [
    {
      "cell_type": "markdown",
      "source": [
        "# Download and prepare the data"
      ],
      "metadata": {
        "id": "7AhU_d7yy5_t"
      }
    },
    {
      "cell_type": "code",
      "source": [
        "import numpy as np\n",
        "from tensorflow.keras.datasets import imdb\n",
        "from tensorflow.keras import preprocessing\n",
        "from tensorflow.keras.models import Sequential\n",
        "from tensorflow.keras.layers import Flatten, Dense, Embedding, LSTM, Dropout\n",
        "from tensorflow.keras.optimizers import RMSprop"
      ],
      "metadata": {
        "id": "tnGuiaZwuA4g"
      },
      "execution_count": 1,
      "outputs": []
    },
    {
      "cell_type": "markdown",
      "source": [
        "**Constants**"
      ],
      "metadata": {
        "id": "ofKfbBzrzCy0"
      }
    },
    {
      "cell_type": "code",
      "source": [
        "max_features = 10000  # Consider only the top 10,000 words\n",
        "maxlen = 150  # Cutoff reviews after 150 words\n",
        "batch_size = 32\n",
        "embedding_dim = 100"
      ],
      "metadata": {
        "id": "g4JEvBr9uVL3"
      },
      "execution_count": 2,
      "outputs": []
    },
    {
      "cell_type": "markdown",
      "source": [
        "**Load the IMDB dataset & tokenize the data**"
      ],
      "metadata": {
        "id": "oEUaDvX-zH2q"
      }
    },
    {
      "cell_type": "code",
      "source": [
        "(train_data, train_labels), (test_data, test_labels) = imdb.load_data(num_words=max_features)"
      ],
      "metadata": {
        "colab": {
          "base_uri": "https://localhost:8080/",
          "height": 0
        },
        "id": "EruJ0dNZuWVl",
        "outputId": "f6f13057-1303-48a2-ba39-d91009830ee6"
      },
      "execution_count": 3,
      "outputs": [
        {
          "output_type": "stream",
          "name": "stdout",
          "text": [
            "Downloading data from https://storage.googleapis.com/tensorflow/tf-keras-datasets/imdb.npz\n",
            "17464789/17464789 [==============================] - 0s 0us/step\n"
          ]
        }
      ]
    },
    {
      "cell_type": "code",
      "source": [
        "word_index = imdb.get_word_index()\n",
        "reverse_word_index = dict([(value, key) for (key, value) in word_index.items()])\n",
        "decoded_review = ' '.join([reverse_word_index.get(i - 3, '?') for i in train_data[0]])"
      ],
      "metadata": {
        "colab": {
          "base_uri": "https://localhost:8080/",
          "height": 0
        },
        "id": "mrQEA3DHxpGi",
        "outputId": "8a8e9b1c-2eb8-4524-ac17-b71f30c97530"
      },
      "execution_count": 4,
      "outputs": [
        {
          "output_type": "stream",
          "name": "stdout",
          "text": [
            "Downloading data from https://storage.googleapis.com/tensorflow/tf-keras-datasets/imdb_word_index.json\n",
            "1641221/1641221 [==============================] - 0s 0us/step\n"
          ]
        }
      ]
    },
    {
      "cell_type": "markdown",
      "source": [
        "**Preprocess the data, validate & train the data**"
      ],
      "metadata": {
        "id": "D39S408uzxsV"
      }
    },
    {
      "cell_type": "code",
      "source": [
        "train_data = preprocessing.sequence.pad_sequences(train_data, maxlen=maxlen)\n",
        "test_data = preprocessing.sequence.pad_sequences(test_data, maxlen=maxlen)"
      ],
      "metadata": {
        "id": "lL5sDumiucFP"
      },
      "execution_count": 5,
      "outputs": []
    },
    {
      "cell_type": "code",
      "source": [
        "training_samples = 100\n",
        "x_train = train_data[:training_samples]\n",
        "y_train = train_labels[:training_samples]"
      ],
      "metadata": {
        "id": "FS0x0eZPudSg"
      },
      "execution_count": 6,
      "outputs": []
    },
    {
      "cell_type": "code",
      "source": [
        "x_val = train_data[training_samples: training_samples + 10000]\n",
        "y_val = train_labels[training_samples: training_samples + 10000]"
      ],
      "metadata": {
        "id": "SInt7xPJui2I"
      },
      "execution_count": 7,
      "outputs": []
    },
    {
      "cell_type": "code",
      "source": [
        "model_embedding = Sequential()\n",
        "model_embedding.add(Embedding(max_features, embedding_dim, input_length=maxlen))\n",
        "model_embedding.add(Flatten())\n",
        "model_embedding.add(Dense(32, activation='relu'))\n",
        "model_embedding.add(Dense(1, activation='sigmoid'))\n",
        "\n",
        "model_embedding.compile(optimizer='rmsprop',\n",
        "                        loss='binary_crossentropy',\n",
        "                        metrics=['acc'])"
      ],
      "metadata": {
        "id": "_Zn6gvfaulxO"
      },
      "execution_count": 8,
      "outputs": []
    },
    {
      "cell_type": "code",
      "source": [
        "history_embedding = model_embedding.fit(x_train, y_train,\n",
        "                                        epochs=10,\n",
        "                                        batch_size=batch_size,\n",
        "                                        validation_data=(x_val, y_val))"
      ],
      "metadata": {
        "colab": {
          "base_uri": "https://localhost:8080/",
          "height": 0
        },
        "id": "2Fy8mueQupcg",
        "outputId": "e44090fe-0ef9-4a28-faf6-ea110a89a939"
      },
      "execution_count": 9,
      "outputs": [
        {
          "output_type": "stream",
          "name": "stdout",
          "text": [
            "Epoch 1/10\n",
            "4/4 [==============================] - 3s 341ms/step - loss: 0.6969 - acc: 0.4500 - val_loss: 0.6921 - val_acc: 0.5188\n",
            "Epoch 2/10\n",
            "4/4 [==============================] - 1s 270ms/step - loss: 0.5631 - acc: 0.9600 - val_loss: 0.6951 - val_acc: 0.5096\n",
            "Epoch 3/10\n",
            "4/4 [==============================] - 1s 274ms/step - loss: 0.4378 - acc: 1.0000 - val_loss: 0.6994 - val_acc: 0.5095\n",
            "Epoch 4/10\n",
            "4/4 [==============================] - 1s 274ms/step - loss: 0.3036 - acc: 1.0000 - val_loss: 0.7259 - val_acc: 0.5161\n",
            "Epoch 5/10\n",
            "4/4 [==============================] - 1s 264ms/step - loss: 0.2077 - acc: 0.9800 - val_loss: 0.7220 - val_acc: 0.5108\n",
            "Epoch 6/10\n",
            "4/4 [==============================] - 1s 266ms/step - loss: 0.1315 - acc: 1.0000 - val_loss: 0.7140 - val_acc: 0.5130\n",
            "Epoch 7/10\n",
            "4/4 [==============================] - 1s 269ms/step - loss: 0.0870 - acc: 1.0000 - val_loss: 0.7293 - val_acc: 0.5104\n",
            "Epoch 8/10\n",
            "4/4 [==============================] - 1s 271ms/step - loss: 0.0593 - acc: 1.0000 - val_loss: 0.7336 - val_acc: 0.5114\n",
            "Epoch 9/10\n",
            "4/4 [==============================] - 1s 270ms/step - loss: 0.0410 - acc: 1.0000 - val_loss: 0.7359 - val_acc: 0.5130\n",
            "Epoch 10/10\n",
            "4/4 [==============================] - 1s 274ms/step - loss: 0.0305 - acc: 1.0000 - val_loss: 0.7558 - val_acc: 0.5096\n"
          ]
        }
      ]
    },
    {
      "cell_type": "markdown",
      "source": [
        "**Plot the results**"
      ],
      "metadata": {
        "id": "QtqmElmZ0JAQ"
      }
    },
    {
      "cell_type": "code",
      "source": [
        "import matplotlib.pyplot as plt"
      ],
      "metadata": {
        "id": "lhXVnedXu6Sf"
      },
      "execution_count": 10,
      "outputs": []
    },
    {
      "cell_type": "code",
      "source": [
        "acc = history_embedding.history['acc']\n",
        "val_acc = history_embedding.history['val_acc']\n",
        "loss = history_embedding.history['loss']\n",
        "val_loss = history_embedding.history['val_loss']\n",
        "epochs = range(1, len(acc) + 1)"
      ],
      "metadata": {
        "id": "uD3joyTtvXK5"
      },
      "execution_count": 11,
      "outputs": []
    },
    {
      "cell_type": "code",
      "source": [
        "plt.plot(epochs, acc, 'bo', label='Training acc')\n",
        "plt.plot(epochs, val_acc, 'b', label='Validation acc')\n",
        "plt.title('Training and validation accuracy with Embedding Layer')\n",
        "plt.xlabel('Epochs')\n",
        "plt.ylabel('Accuracy')\n",
        "plt.legend()\n",
        "plt.show()"
      ],
      "metadata": {
        "colab": {
          "base_uri": "https://localhost:8080/",
          "height": 472
        },
        "id": "IlgybohnvZqg",
        "outputId": "6de76424-ac1d-49d5-8d3f-4032420c91c1"
      },
      "execution_count": 12,
      "outputs": [
        {
          "output_type": "display_data",
          "data": {
            "text/plain": [
              "<Figure size 640x480 with 1 Axes>"
            ],
            "image/png": "[encoded data removed]"
          },
          "metadata": {}
        }
      ]
    },
    {
      "cell_type": "code",
      "source": [
        "plt.figure()\n",
        "plt.plot(epochs, loss, 'bo', label='Training loss')\n",
        "plt.plot(epochs, val_loss, 'b', label='Validation loss')\n",
        "plt.title('Training and validation loss with Embedding Layer')\n",
        "plt.xlabel('Epochs')\n",
        "plt.ylabel('Loss')\n",
        "plt.legend()\n",
        "plt.show()"
      ],
      "metadata": {
        "colab": {
          "base_uri": "https://localhost:8080/",
          "height": 472
        },
        "id": "Zf3_1bSpveKG",
        "outputId": "63f5ef57-5a85-477c-ed09-c41ca2d8900e"
      },
      "execution_count": 13,
      "outputs": [
        {
          "output_type": "display_data",
          "data": {
            "text/plain": [
              "<Figure size 640x480 with 1 Axes>"
            ],
            "image/png": "[encoded data removed]"
          },
          "metadata": {}
        }
      ]
    },
    {
      "cell_type": "markdown",
      "source": [
        "# Download GloVe embeddings from https://nlp.stanford.edu/projects/glove/"
      ],
      "metadata": {
        "id": "hFnVPixT0FTv"
      }
    },
    {
      "cell_type": "code",
      "source": [
        "from google.colab import drive\n",
        "drive.mount('/content/gdrive')\n",
        "!unzip -qq /content/gdrive/MyDrive/glove.6B.zip"
      ],
      "metadata": {
        "colab": {
          "base_uri": "https://localhost:8080/",
          "height": 0
        },
        "id": "yrhbRY1Zuv1C",
        "outputId": "098755ae-005f-414e-f877-de3113a205a0"
      },
      "execution_count": 14,
      "outputs": [
        {
          "output_type": "stream",
          "name": "stdout",
          "text": [
            "Mounted at /content/gdrive\n"
          ]
        }
      ]
    },
    {
      "cell_type": "code",
      "source": [
        "glove_dir = 'glove.6B.100d.txt'"
      ],
      "metadata": {
        "id": "gVPfz0m4vh6W"
      },
      "execution_count": 15,
      "outputs": []
    },
    {
      "cell_type": "code",
      "source": [
        "embeddings_index = {}\n",
        "with open(glove_dir, encoding='utf-8') as f:\n",
        "    for line in f:\n",
        "        values = line.split()\n",
        "        word = values[0]\n",
        "        coefs = np.asarray(values[1:], dtype='float32')\n",
        "        embeddings_index[word] = coefs"
      ],
      "metadata": {
        "id": "uPIoIaJvvxMU"
      },
      "execution_count": 16,
      "outputs": []
    },
    {
      "cell_type": "markdown",
      "source": [
        "**Create embedding matrix**"
      ],
      "metadata": {
        "id": "RxTJHyY30yFV"
      }
    },
    {
      "cell_type": "code",
      "source": [
        "embedding_matrix = np.zeros((max_features, embedding_dim))\n",
        "for word, i in word_index.items():\n",
        "    if i < max_features:\n",
        "        embedding_vector = embeddings_index.get(word)\n",
        "        if embedding_vector is not None:\n",
        "            embedding_matrix[i] = embedding_vector"
      ],
      "metadata": {
        "id": "xWAvMflEv_rR"
      },
      "execution_count": 17,
      "outputs": []
    },
    {
      "cell_type": "markdown",
      "source": [
        "**Define the model with a pretrained word embedding (GloVe)**"
      ],
      "metadata": {
        "id": "ra087x5r0YQt"
      }
    },
    {
      "cell_type": "code",
      "source": [
        "model_pretrained_embedding = Sequential()\n",
        "model_pretrained_embedding.add(Embedding(max_features, embedding_dim, input_length=maxlen))\n",
        "model_pretrained_embedding.add(Flatten())\n",
        "model_pretrained_embedding.add(Dense(32, activation='relu'))\n",
        "model_pretrained_embedding.add(Dense(1, activation='sigmoid'))\n",
        "\n",
        "model_pretrained_embedding.layers[0].set_weights([embedding_matrix])\n",
        "model_pretrained_embedding.layers[0].trainable = False\n",
        "\n",
        "model_pretrained_embedding.compile(optimizer='rmsprop',\n",
        "                                   loss='binary_crossentropy',\n",
        "                                   metrics=['acc'])"
      ],
      "metadata": {
        "id": "kW2iROFJyZ88"
      },
      "execution_count": 18,
      "outputs": []
    },
    {
      "cell_type": "markdown",
      "source": [
        "**Train the model with pretrained embedding**"
      ],
      "metadata": {
        "id": "LFl1-jbj0eST"
      }
    },
    {
      "cell_type": "code",
      "source": [
        "history_pretrained_embedding = model_pretrained_embedding.fit(x_train, y_train,\n",
        "                                                              epochs=10,\n",
        "                                                              batch_size=batch_size,\n",
        "                                                              validation_data=(x_val, y_val))"
      ],
      "metadata": {
        "colab": {
          "base_uri": "https://localhost:8080/",
          "height": 0
        },
        "id": "kFo15HC-yef7",
        "outputId": "c0074157-5ae5-4ea4-c2d6-4d0376084df5"
      },
      "execution_count": 19,
      "outputs": [
        {
          "output_type": "stream",
          "name": "stdout",
          "text": [
            "Epoch 1/10\n",
            "4/4 [==============================] - 1s 216ms/step - loss: 2.2641 - acc: 0.4600 - val_loss: 0.8249 - val_acc: 0.4957\n",
            "Epoch 2/10\n",
            "4/4 [==============================] - 1s 168ms/step - loss: 0.7074 - acc: 0.6700 - val_loss: 0.9700 - val_acc: 0.5010\n",
            "Epoch 3/10\n",
            "4/4 [==============================] - 1s 169ms/step - loss: 0.4010 - acc: 0.7800 - val_loss: 0.7421 - val_acc: 0.5066\n",
            "Epoch 4/10\n",
            "4/4 [==============================] - 1s 172ms/step - loss: 0.2278 - acc: 0.9300 - val_loss: 1.6383 - val_acc: 0.4972\n",
            "Epoch 5/10\n",
            "4/4 [==============================] - 1s 169ms/step - loss: 0.4232 - acc: 0.7300 - val_loss: 0.7299 - val_acc: 0.5170\n",
            "Epoch 6/10\n",
            "4/4 [==============================] - 1s 168ms/step - loss: 0.1018 - acc: 1.0000 - val_loss: 0.7408 - val_acc: 0.5117\n",
            "Epoch 7/10\n",
            "4/4 [==============================] - 1s 167ms/step - loss: 0.0685 - acc: 1.0000 - val_loss: 0.7804 - val_acc: 0.5155\n",
            "Epoch 8/10\n",
            "4/4 [==============================] - 0s 164ms/step - loss: 0.0532 - acc: 1.0000 - val_loss: 1.3080 - val_acc: 0.5052\n",
            "Epoch 9/10\n",
            "4/4 [==============================] - 0s 164ms/step - loss: 0.1596 - acc: 0.9300 - val_loss: 0.7781 - val_acc: 0.5147\n",
            "Epoch 10/10\n",
            "4/4 [==============================] - 1s 168ms/step - loss: 0.0275 - acc: 1.0000 - val_loss: 1.0583 - val_acc: 0.5042\n"
          ]
        }
      ]
    },
    {
      "cell_type": "markdown",
      "source": [
        "**Evaluate the model on test data**"
      ],
      "metadata": {
        "id": "Jm2ZvAM-2olj"
      }
    },
    {
      "cell_type": "code",
      "source": [
        "loss_pretrained_embedding, acc_pretrained_embedding = model_pretrained_embedding.evaluate(test_data, test_labels)\n",
        "print(f\"Pretrained Embedding Model - Test Loss: {loss_pretrained_embedding:.4f}, Test Accuracy: {acc_pretrained_embedding:.4f}\")"
      ],
      "metadata": {
        "colab": {
          "base_uri": "https://localhost:8080/",
          "height": 0
        },
        "id": "Enjz5ZmE2nGA",
        "outputId": "e81c5ff6-14c8-478f-cf43-9ae7d3cb4326"
      },
      "execution_count": 20,
      "outputs": [
        {
          "output_type": "stream",
          "name": "stdout",
          "text": [
            "782/782 [==============================] - 1s 2ms/step - loss: 1.0511 - acc: 0.5103\n",
            "Pretrained Embedding Model - Test Loss: 1.0511, Test Accuracy: 0.5103\n"
          ]
        }
      ]
    },
    {
      "cell_type": "markdown",
      "source": [
        "# Changing the number of training samples"
      ],
      "metadata": {
        "id": "J46euRtV3Al4"
      }
    },
    {
      "cell_type": "code",
      "source": [
        "import numpy as np\n",
        "from tensorflow.keras.datasets import imdb\n",
        "from tensorflow.keras import preprocessing\n",
        "from tensorflow.keras.models import Sequential\n",
        "from tensorflow.keras.layers import Embedding, Flatten, Dense\n",
        "from sklearn.metrics import accuracy_score"
      ],
      "metadata": {
        "id": "NysOwYu33GVw"
      },
      "execution_count": 21,
      "outputs": []
    },
    {
      "cell_type": "markdown",
      "source": [
        "**Constants**"
      ],
      "metadata": {
        "id": "I5UlBCLX3OkJ"
      }
    },
    {
      "cell_type": "code",
      "source": [
        "max_features = 10000  # Consider only the top 10,000 words\n",
        "maxlen = 150  # Cutoff reviews after 150 words\n",
        "embedding_dim = 100\n",
        "batch_size = 32\n",
        "epochs = 10"
      ],
      "metadata": {
        "id": "bc63DjLs3Lu3"
      },
      "execution_count": 22,
      "outputs": []
    },
    {
      "cell_type": "markdown",
      "source": [
        "**Load the dataset & tokenize the data**"
      ],
      "metadata": {
        "id": "lOD6kBrs3XPj"
      }
    },
    {
      "cell_type": "code",
      "source": [
        "(train_data, train_labels), (test_data, test_labels) = imdb.load_data(num_words=max_features)"
      ],
      "metadata": {
        "id": "r3rsPorm3SxU"
      },
      "execution_count": 23,
      "outputs": []
    },
    {
      "cell_type": "code",
      "source": [
        "word_index = imdb.get_word_index()\n",
        "reverse_word_index = dict([(value, key) for (key, value) in word_index.items()])\n",
        "decoded_review = ' '.join([reverse_word_index.get(i - 3, '?') for i in train_data[0]])"
      ],
      "metadata": {
        "id": "J2WFw5vE3gy_"
      },
      "execution_count": 24,
      "outputs": []
    },
    {
      "cell_type": "markdown",
      "source": [
        "**Preprocess the data**"
      ],
      "metadata": {
        "id": "TtxbHznG4uMx"
      }
    },
    {
      "cell_type": "code",
      "source": [
        "x_train = preprocessing.sequence.pad_sequences(train_data, maxlen=maxlen)\n",
        "x_test = preprocessing.sequence.pad_sequences(test_data, maxlen=maxlen)"
      ],
      "metadata": {
        "id": "4onPHQ6I4tXo"
      },
      "execution_count": 25,
      "outputs": []
    },
    {
      "cell_type": "markdown",
      "source": [
        "**Varying number of training samples**"
      ],
      "metadata": {
        "id": "SiaJnWW642lN"
      }
    },
    {
      "cell_type": "code",
      "source": [
        "sample_sizes = [300]\n",
        "results = {'embedding_layer': [], 'pretrained_embedding': []}\n",
        "\n",
        "for size in sample_sizes:\n",
        "    y_train = train_labels[:size]\n",
        "    y_test = test_labels"
      ],
      "metadata": {
        "id": "MSENZlhR4zky"
      },
      "execution_count": 26,
      "outputs": []
    },
    {
      "cell_type": "markdown",
      "source": [
        "**Model with Embedding Layer**"
      ],
      "metadata": {
        "id": "7M4xhQlK4_8B"
      }
    },
    {
      "cell_type": "code",
      "source": [
        "model_embedding = Sequential()\n",
        "model_embedding.add(Embedding(max_features, embedding_dim, input_length=maxlen))\n",
        "model_embedding.add(Flatten())\n",
        "model_embedding.add(Dense(32, activation='relu'))\n",
        "model_embedding.add(Dense(1, activation='sigmoid'))"
      ],
      "metadata": {
        "id": "bKITZVdQ5ByH"
      },
      "execution_count": 27,
      "outputs": []
    },
    {
      "cell_type": "code",
      "source": [
        "model_embedding.compile(optimizer='rmsprop',\n",
        "                            loss='binary_crossentropy',\n",
        "                            metrics=['acc'])"
      ],
      "metadata": {
        "id": "WfN3mPZB5KRT"
      },
      "execution_count": 28,
      "outputs": []
    },
    {
      "cell_type": "code",
      "source": [
        "history_embedding = model_embedding.fit(x_train[:size], y_train,\n",
        "                                            epochs=epochs,\n",
        "                                            batch_size=batch_size,\n",
        "                                            validation_split=0.2,\n",
        "                                            verbose=0)"
      ],
      "metadata": {
        "id": "odWtwp4E5R3_"
      },
      "execution_count": 29,
      "outputs": []
    },
    {
      "cell_type": "code",
      "source": [
        "y_pred_embedding = (model_embedding.predict(x_test) > 0.5).astype(\"int32\")\n",
        "acc_embedding = accuracy_score(y_test, y_pred_embedding)\n",
        "results['embedding_layer'].append(acc_embedding)"
      ],
      "metadata": {
        "colab": {
          "base_uri": "https://localhost:8080/",
          "height": 0
        },
        "id": "MQJ7bOum5sRd",
        "outputId": "2ababf0f-685b-4ecb-d853-f50b8cc6e9d6"
      },
      "execution_count": 30,
      "outputs": [
        {
          "output_type": "stream",
          "name": "stdout",
          "text": [
            "782/782 [==============================] - 1s 1ms/step\n"
          ]
        }
      ]
    },
    {
      "cell_type": "markdown",
      "source": [
        "**Model with Pretrained Embedding**"
      ],
      "metadata": {
        "id": "f1VSqrJh50vR"
      }
    },
    {
      "cell_type": "code",
      "source": [
        "embedding_matrix = np.zeros((max_features, embedding_dim))\n",
        "glove_dir = 'glove.6B.100d.txt'"
      ],
      "metadata": {
        "id": "2GhVrCFA54-o"
      },
      "execution_count": 31,
      "outputs": []
    },
    {
      "cell_type": "code",
      "source": [
        "with open(glove_dir, encoding='utf-8') as f:\n",
        "        for line in f:\n",
        "            values = line.split()\n",
        "            word = values[0]\n",
        "            if word in word_index and word_index[word] < max_features:\n",
        "                embedding_matrix[word_index[word]] = np.asarray(values[1:], dtype='float32')"
      ],
      "metadata": {
        "id": "RkaphnSv6EQk"
      },
      "execution_count": 32,
      "outputs": []
    },
    {
      "cell_type": "code",
      "source": [
        "model_pretrained_embedding = Sequential()\n",
        "model_pretrained_embedding.add(Embedding(max_features, embedding_dim, input_length=maxlen))\n",
        "model_pretrained_embedding.add(Flatten())\n",
        "model_pretrained_embedding.add(Dense(32, activation='relu'))\n",
        "model_pretrained_embedding.add(Dense(1, activation='sigmoid'))"
      ],
      "metadata": {
        "id": "04jnrxyk6pUa"
      },
      "execution_count": 33,
      "outputs": []
    },
    {
      "cell_type": "code",
      "source": [
        "model_pretrained_embedding.layers[0].set_weights([embedding_matrix])\n",
        "model_pretrained_embedding.layers[0].trainable = False"
      ],
      "metadata": {
        "id": "odbGKXQW6xXT"
      },
      "execution_count": 34,
      "outputs": []
    },
    {
      "cell_type": "code",
      "source": [
        "model_pretrained_embedding.compile(optimizer='rmsprop',\n",
        "                                       loss='binary_crossentropy',\n",
        "                                       metrics=['acc'])"
      ],
      "metadata": {
        "id": "DDD0VUi-63F8"
      },
      "execution_count": 35,
      "outputs": []
    },
    {
      "cell_type": "code",
      "source": [
        "history_pretrained_embedding = model_pretrained_embedding.fit(x_train[:size], y_train,\n",
        "                                                                epochs=epochs,\n",
        "                                                                batch_size=batch_size,\n",
        "                                                                validation_split=0.2,\n",
        "                                                                verbose=0)"
      ],
      "metadata": {
        "id": "5aoxNNNi67sH"
      },
      "execution_count": 36,
      "outputs": []
    },
    {
      "cell_type": "code",
      "source": [
        "y_pred_pretrained = (model_pretrained_embedding.predict(x_test) > 0.5).astype(\"int32\")\n",
        "acc_pretrained = accuracy_score(y_test, y_pred_pretrained)\n",
        "results['pretrained_embedding'].append(acc_pretrained)"
      ],
      "metadata": {
        "colab": {
          "base_uri": "https://localhost:8080/",
          "height": 0
        },
        "id": "xkQkAMdt7BT9",
        "outputId": "ec9f32d2-17fd-47e8-dc05-27b073740647"
      },
      "execution_count": 37,
      "outputs": [
        {
          "output_type": "stream",
          "name": "stdout",
          "text": [
            "782/782 [==============================] - 1s 1ms/step\n"
          ]
        }
      ]
    },
    {
      "cell_type": "code",
      "source": [
        "print(\"Results:\")\n",
        "for size, result in zip(sample_sizes, zip(results['embedding_layer'], results['pretrained_embedding'])):\n",
        "    print(f\"Training samples: {size}\")\n",
        "    print(f\"Embedding Layer Accuracy: {result[0]:.4f}\")\n",
        "    print(f\"Pretrained Embedding Accuracy: {result[1]:.4f}\")\n",
        "    print()"
      ],
      "metadata": {
        "colab": {
          "base_uri": "https://localhost:8080/",
          "height": 0
        },
        "id": "DGu6eVfI7K6Q",
        "outputId": "274b714c-b561-4057-fe7e-dfdeba4f57e5"
      },
      "execution_count": 38,
      "outputs": [
        {
          "output_type": "stream",
          "name": "stdout",
          "text": [
            "Results:\n",
            "Training samples: 300\n",
            "Embedding Layer Accuracy: 0.5276\n",
            "Pretrained Embedding Accuracy: 0.5122\n",
            "\n"
          ]
        }
      ]
    },
    {
      "cell_type": "markdown",
      "source": [
        "# Fine-tuning the model"
      ],
      "metadata": {
        "id": "uWI5jXq4-QoW"
      }
    },
    {
      "cell_type": "code",
      "source": [
        "import numpy as np\n",
        "from tensorflow.keras.datasets import imdb\n",
        "from tensorflow.keras import preprocessing\n",
        "from tensorflow.keras.models import Sequential\n",
        "from tensorflow.keras.layers import Embedding, Flatten, Dense, LSTM, Dropout\n",
        "from sklearn.metrics import accuracy_score"
      ],
      "metadata": {
        "id": "BX96A4iyHIKN"
      },
      "execution_count": 39,
      "outputs": []
    },
    {
      "cell_type": "code",
      "source": [
        "# Constants\n",
        "max_features = 10000  # Consider only the top 10,000 words\n",
        "maxlen = 150  # Cutoff reviews after 150 words\n",
        "embedding_dim = 100\n",
        "batch_size = 32\n",
        "epochs = 15  # Increase epochs for more training"
      ],
      "metadata": {
        "id": "WKsxsmsWHJGh"
      },
      "execution_count": 40,
      "outputs": []
    },
    {
      "cell_type": "code",
      "source": [
        "# Load the IMDB dataset\n",
        "(train_data, train_labels), (test_data, test_labels) = imdb.load_data(num_words=max_features)"
      ],
      "metadata": {
        "id": "Lvu1Ew8jHMc1"
      },
      "execution_count": 41,
      "outputs": []
    },
    {
      "cell_type": "code",
      "source": [
        "# Preprocess the data\n",
        "x_train = preprocessing.sequence.pad_sequences(train_data, maxlen=maxlen)\n",
        "x_test = preprocessing.sequence.pad_sequences(test_data, maxlen=maxlen)"
      ],
      "metadata": {
        "id": "MB6HzOUKHQQF"
      },
      "execution_count": 42,
      "outputs": []
    },
    {
      "cell_type": "code",
      "source": [
        "# Model with Embedding Layer\n",
        "model_embedding = Sequential()\n",
        "model_embedding.add(Embedding(max_features, embedding_dim, input_length=maxlen))\n",
        "model_embedding.add(LSTM(128, return_sequences=True))  # Use LSTM with return_sequences=True\n",
        "model_embedding.add(LSTM(128))  # Another LSTM layer\n",
        "model_embedding.add(Dense(64, activation='relu'))\n",
        "model_embedding.add(Dropout(0.5))  # Dropout regularization\n",
        "model_embedding.add(Dense(1, activation='sigmoid'))"
      ],
      "metadata": {
        "id": "yCudhQuLHSuA"
      },
      "execution_count": 44,
      "outputs": []
    },
    {
      "cell_type": "code",
      "source": [
        "model_embedding.compile(optimizer='adam',  # Try different optimizers like Adam\n",
        "                        loss='binary_crossentropy',\n",
        "                        metrics=['acc'])"
      ],
      "metadata": {
        "id": "bRt3ghG-Ha65"
      },
      "execution_count": 45,
      "outputs": []
    },
    {
      "cell_type": "code",
      "source": [
        "history_embedding = model_embedding.fit(x_train, train_labels,\n",
        "                                        epochs=epochs,\n",
        "                                        batch_size=batch_size,\n",
        "                                        validation_split=0.2,\n",
        "                                        verbose=1)"
      ],
      "metadata": {
        "colab": {
          "base_uri": "https://localhost:8080/",
          "height": 0
        },
        "id": "ZdPWVM6JHdX3",
        "outputId": "dfff2c79-6c5b-4885-b7aa-a369266e55ef"
      },
      "execution_count": 46,
      "outputs": [
        {
          "output_type": "stream",
          "name": "stdout",
          "text": [
            "Epoch 1/15\n",
            "625/625 [==============================] - 47s 69ms/step - loss: 0.4711 - acc: 0.7825 - val_loss: 0.3777 - val_acc: 0.8438\n",
            "Epoch 2/15\n",
            "625/625 [==============================] - 14s 22ms/step - loss: 0.2955 - acc: 0.8860 - val_loss: 0.3656 - val_acc: 0.8470\n",
            "Epoch 3/15\n",
            "625/625 [==============================] - 12s 19ms/step - loss: 0.2086 - acc: 0.9234 - val_loss: 0.3997 - val_acc: 0.8526\n",
            "Epoch 4/15\n",
            "625/625 [==============================] - 10s 16ms/step - loss: 0.1548 - acc: 0.9434 - val_loss: 0.4979 - val_acc: 0.8266\n",
            "Epoch 5/15\n",
            "625/625 [==============================] - 11s 18ms/step - loss: 0.1124 - acc: 0.9617 - val_loss: 0.5146 - val_acc: 0.8292\n",
            "Epoch 6/15\n",
            "625/625 [==============================] - 9s 15ms/step - loss: 0.0863 - acc: 0.9722 - val_loss: 0.6208 - val_acc: 0.8418\n",
            "Epoch 7/15\n",
            "625/625 [==============================] - 11s 17ms/step - loss: 0.0617 - acc: 0.9801 - val_loss: 0.6801 - val_acc: 0.8360\n",
            "Epoch 8/15\n",
            "625/625 [==============================] - 9s 14ms/step - loss: 0.0480 - acc: 0.9855 - val_loss: 0.7266 - val_acc: 0.8364\n",
            "Epoch 9/15\n",
            "625/625 [==============================] - 10s 16ms/step - loss: 0.0373 - acc: 0.9880 - val_loss: 0.7850 - val_acc: 0.8352\n",
            "Epoch 10/15\n",
            "625/625 [==============================] - 10s 17ms/step - loss: 0.0269 - acc: 0.9919 - val_loss: 1.0200 - val_acc: 0.8342\n",
            "Epoch 11/15\n",
            "625/625 [==============================] - 10s 16ms/step - loss: 0.0332 - acc: 0.9896 - val_loss: 0.6939 - val_acc: 0.8246\n",
            "Epoch 12/15\n",
            "625/625 [==============================] - 10s 16ms/step - loss: 0.0299 - acc: 0.9905 - val_loss: 0.8871 - val_acc: 0.8366\n",
            "Epoch 13/15\n",
            "625/625 [==============================] - 9s 14ms/step - loss: 0.0203 - acc: 0.9933 - val_loss: 0.9150 - val_acc: 0.8268\n",
            "Epoch 14/15\n",
            "625/625 [==============================] - 9s 15ms/step - loss: 0.0160 - acc: 0.9954 - val_loss: 0.9884 - val_acc: 0.8342\n",
            "Epoch 15/15\n",
            "625/625 [==============================] - 9s 15ms/step - loss: 0.0235 - acc: 0.9926 - val_loss: 1.0063 - val_acc: 0.8330\n"
          ]
        }
      ]
    },
    {
      "cell_type": "code",
      "source": [
        "# Evaluate model\n",
        "loss, accuracy = model_embedding.evaluate(x_test, test_labels)\n",
        "print(f\"Test Accuracy: {accuracy * 100:.2f}%\")"
      ],
      "metadata": {
        "colab": {
          "base_uri": "https://localhost:8080/",
          "height": 0
        },
        "id": "WI17Fpv_HihX",
        "outputId": "e4071314-b6c3-4cd4-aad2-164d55cae33e"
      },
      "execution_count": 47,
      "outputs": [
        {
          "output_type": "stream",
          "name": "stdout",
          "text": [
            "782/782 [==============================] - 4s 6ms/step - loss: 1.0048 - acc: 0.8360\n",
            "Test Accuracy: 83.60%\n"
          ]
        }
      ]
    },
    {
      "cell_type": "code",
      "source": [
        "import matplotlib.pyplot as plt\n",
        "import pandas as pd"
      ],
      "metadata": {
        "id": "-4Ifa18kSO49"
      },
      "execution_count": 48,
      "outputs": []
    },
    {
      "cell_type": "code",
      "source": [
        "# Define the data\n",
        "results_data = {\n",
        "    \"Model\": [\"Pretrained Embedding Initial\", \"Fine-tuned Model\"],\n",
        "    \"Test Accuracy\": [51.03, 83.60]\n",
        "}"
      ],
      "metadata": {
        "id": "nG4A-EVSSS5c"
      },
      "execution_count": 49,
      "outputs": []
    },
    {
      "cell_type": "code",
      "source": [
        "results_df = pd.DataFrame(results_data)"
      ],
      "metadata": {
        "id": "BSXt45PmST2J"
      },
      "execution_count": 50,
      "outputs": []
    },
    {
      "cell_type": "code",
      "source": [
        "# Create a bar chart\n",
        "plt.figure(figsize=(8, 6))\n",
        "plt.bar(results_df[\"Model\"], results_df[\"Test Accuracy\"], color=['blue', 'green'])\n",
        "plt.xlabel(\"Model\")\n",
        "plt.ylabel(\"Test Accuracy (%)\")\n",
        "plt.title(\"Test Accuracy Comparison\")\n",
        "plt.ylim(0, 100)"
      ],
      "metadata": {
        "colab": {
          "base_uri": "https://localhost:8080/",
          "height": 581
        },
        "id": "vbePDDhdSWPA",
        "outputId": "f1fcf6ae-1715-4581-c2db-055d96dbe5ef"
      },
      "execution_count": 51,
      "outputs": [
        {
          "output_type": "execute_result",
          "data": {
            "text/plain": [
              "(0.0, 100.0)"
            ]
          },
          "metadata": {},
          "execution_count": 51
        },
        {
          "output_type": "display_data",
          "data": {
            "text/plain": [
              "<Figure size 800x600 with 1 Axes>"
            ],
            "image/png": "[encoded data removed]"
          },
          "metadata": {}
        }
      ]
    },
    {
      "cell_type": "code",
      "source": [
        "# Add text labels to the bars\n",
        "for i, val in enumerate(results_df[\"Test Accuracy\"]):\n",
        "    plt.text(i, val + 1, f\"{val:.2f}%\", horizontalalignment='center', verticalalignment='bottom')"
      ],
      "metadata": {
        "id": "GuAA6dUcSZcE"
      },
      "execution_count": null,
      "outputs": []
    },
    {
      "cell_type": "code",
      "source": [
        "# Show the plot\n",
        "plt.tight_layout()\n",
        "plt.show()"
      ],
      "metadata": {
        "colab": {
          "base_uri": "https://localhost:8080/",
          "height": 34
        },
        "id": "DkzxNpAjSdrm",
        "outputId": "c54b8ddc-f01d-4f51-a10f-437fa23a0e2e"
      },
      "execution_count": 53,
      "outputs": [
        {
          "output_type": "display_data",
          "data": {
            "text/plain": [
              "<Figure size 640x480 with 0 Axes>"
            ]
          },
          "metadata": {}
        }
      ]
    },
    {
      "cell_type": "code",
      "source": [
        "# Display the results table\n",
        "print(\"Results Table:\")\n",
        "print(results_df)"
      ],
      "metadata": {
        "colab": {
          "base_uri": "https://localhost:8080/",
          "height": 0
        },
        "id": "hcjE8TfBShBs",
        "outputId": "7498b2a7-de34-402a-997f-e9e88e97a48e"
      },
      "execution_count": 54,
      "outputs": [
        {
          "output_type": "stream",
          "name": "stdout",
          "text": [
            "Results Table:\n",
            "                          Model  Test Accuracy\n",
            "0  Pretrained Embedding Initial          51.03\n",
            "1              Fine-tuned Model          83.60\n"
          ]
        }
      ]
    }
  ]
}
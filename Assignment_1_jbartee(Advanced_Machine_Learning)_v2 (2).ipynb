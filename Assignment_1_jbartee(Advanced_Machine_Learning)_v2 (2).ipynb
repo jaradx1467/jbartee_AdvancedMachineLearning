{
  "nbformat": 4,
  "nbformat_minor": 0,
  "metadata": {
    "colab": {
      "provenance": []
    },
    "kernelspec": {
      "name": "python3",
      "display_name": "Python 3"
    },
    "language_info": {
      "name": "python"
    }
  },
  "cells": [
    {
      "cell_type": "markdown",
      "metadata": {
        "id": "view-in-github"
      },
      "source": [
        "<a href=\"https://colab.research.google.com/github/jaradx1467/jbartee_AdvancedMachineLearning/blob/main/Assignment_1_jbartee(Advanced_Machine_Learning).ipynb\" target=\"_parent\"><img src=\"https://colab.research.google.com/assets/colab-badge.svg\" alt=\"Open In Colab\"/></a>"
      ]
    },
    {
      "cell_type": "code",
      "execution_count": 38,
      "metadata": {
        "id": "FQXlGSH5bsD2"
      },
      "outputs": [],
      "source": [
        "import numpy as np\n",
        "from keras.datasets import imdb\n",
        "from keras.models import Sequential\n",
        "from keras.layers import Dense, Dropout\n",
        "from keras.optimizers import RMSprop\n",
        "from keras import regularizers"
      ]
    },
    {
      "cell_type": "markdown",
      "source": [
        "# Load the IMDB dataset"
      ],
      "metadata": {
        "id": "eTXvMWj_f7Vx"
      }
    },
    {
      "cell_type": "code",
      "source": [
        "max_features = 10000\n",
        "(train_data, train_labels), (test_data, test_labels) = imdb.load_data(num_words=max_features)"
      ],
      "metadata": {
        "id": "CCSYtSIegBI-"
      },
      "execution_count": 39,
      "outputs": []
    },
    {
      "cell_type": "markdown",
      "source": [
        "# Vectorize the data"
      ],
      "metadata": {
        "id": "OalfaBa6gWnU"
      }
    },
    {
      "cell_type": "code",
      "source": [
        "def vectorize_sequences(sequences, dimension=max_features):\n",
        "    results = np.zeros((len(sequences), dimension))\n",
        "    for i, sequence in enumerate(sequences):\n",
        "        results[i, sequence] = 1.\n",
        "    return results"
      ],
      "metadata": {
        "id": "T22ATaYfgZjl"
      },
      "execution_count": 40,
      "outputs": []
    },
    {
      "cell_type": "code",
      "source": [
        "x_train = vectorize_sequences(train_data)\n",
        "x_test = vectorize_sequences(test_data)\n",
        "y_train = np.asarray(train_labels).astype('float32')\n",
        "y_test = np.asarray(test_labels).astype('float32')"
      ],
      "metadata": {
        "id": "VSfx_vUXg0cC"
      },
      "execution_count": 41,
      "outputs": []
    },
    {
      "cell_type": "markdown",
      "source": [
        "# Define the model"
      ],
      "metadata": {
        "id": "uGHpKwMFhKes"
      }
    },
    {
      "cell_type": "code",
      "source": [
        "model = Sequential()\n",
        "model.add(Dense(32, activation='relu', input_shape=(max_features,)))\n",
        "model.add(Dropout(0.5))\n",
        "model.add(Dense(32, activation='relu'))\n",
        "model.add(Dropout(0.5))\n",
        "model.add(Dense(1, activation='sigmoid'))"
      ],
      "metadata": {
        "id": "tQYKd1FShNuf"
      },
      "execution_count": 42,
      "outputs": []
    },
    {
      "cell_type": "markdown",
      "source": [
        "# Compile the model"
      ],
      "metadata": {
        "id": "DSKn_JtWxQOE"
      }
    },
    {
      "cell_type": "code",
      "source": [
        "model.compile(optimizer=RMSprop(learning_rate=0.001), loss='binary_crossentropy', metrics=['accuracy'])\n"
      ],
      "metadata": {
        "id": "CP7G1tQOxSZm"
      },
      "execution_count": 43,
      "outputs": []
    },
    {
      "cell_type": "markdown",
      "source": [
        "# Train the model"
      ],
      "metadata": {
        "id": "5-JsMrZwxZCN"
      }
    },
    {
      "cell_type": "code",
      "source": [
        "history = model.fit(x_train, y_train, epochs=20, batch_size=512, validation_split=0.2)"
      ],
      "metadata": {
        "colab": {
          "base_uri": "https://localhost:8080/",
          "height": 0
        },
        "id": "6A6SZW1nxa7V",
        "outputId": "b1a91f8b-9415-4425-c5e0-733d6381ed9b"
      },
      "execution_count": 44,
      "outputs": [
        {
          "output_type": "stream",
          "name": "stdout",
          "text": [
            "Epoch 1/20\n",
            "40/40 [==============================] - 4s 71ms/step - loss: 0.5675 - accuracy: 0.7072 - val_loss: 0.4026 - val_accuracy: 0.8432\n",
            "Epoch 2/20\n",
            "40/40 [==============================] - 2s 46ms/step - loss: 0.3782 - accuracy: 0.8514 - val_loss: 0.2949 - val_accuracy: 0.8860\n",
            "Epoch 3/20\n",
            "40/40 [==============================] - 1s 37ms/step - loss: 0.2881 - accuracy: 0.8946 - val_loss: 0.2854 - val_accuracy: 0.8870\n",
            "Epoch 4/20\n",
            "40/40 [==============================] - 2s 41ms/step - loss: 0.2379 - accuracy: 0.9155 - val_loss: 0.2838 - val_accuracy: 0.8862\n",
            "Epoch 5/20\n",
            "40/40 [==============================] - 1s 37ms/step - loss: 0.2002 - accuracy: 0.9288 - val_loss: 0.2746 - val_accuracy: 0.8952\n",
            "Epoch 6/20\n",
            "40/40 [==============================] - 2s 41ms/step - loss: 0.1722 - accuracy: 0.9419 - val_loss: 0.2963 - val_accuracy: 0.8954\n",
            "Epoch 7/20\n",
            "40/40 [==============================] - 2s 38ms/step - loss: 0.1516 - accuracy: 0.9487 - val_loss: 0.3349 - val_accuracy: 0.8882\n",
            "Epoch 8/20\n",
            "40/40 [==============================] - 2s 43ms/step - loss: 0.1278 - accuracy: 0.9582 - val_loss: 0.3698 - val_accuracy: 0.8844\n",
            "Epoch 9/20\n",
            "40/40 [==============================] - 2s 57ms/step - loss: 0.1113 - accuracy: 0.9630 - val_loss: 0.3811 - val_accuracy: 0.8812\n",
            "Epoch 10/20\n",
            "40/40 [==============================] - 1s 37ms/step - loss: 0.0972 - accuracy: 0.9703 - val_loss: 0.4195 - val_accuracy: 0.8820\n",
            "Epoch 11/20\n",
            "40/40 [==============================] - 2s 42ms/step - loss: 0.0863 - accuracy: 0.9725 - val_loss: 0.4357 - val_accuracy: 0.8916\n",
            "Epoch 12/20\n",
            "40/40 [==============================] - 2s 40ms/step - loss: 0.0776 - accuracy: 0.9746 - val_loss: 0.4560 - val_accuracy: 0.8902\n",
            "Epoch 13/20\n",
            "40/40 [==============================] - 1s 37ms/step - loss: 0.0711 - accuracy: 0.9779 - val_loss: 0.4602 - val_accuracy: 0.8898\n",
            "Epoch 14/20\n",
            "40/40 [==============================] - 2s 41ms/step - loss: 0.0613 - accuracy: 0.9826 - val_loss: 0.4881 - val_accuracy: 0.8904\n",
            "Epoch 15/20\n",
            "40/40 [==============================] - 2s 38ms/step - loss: 0.0562 - accuracy: 0.9833 - val_loss: 0.5516 - val_accuracy: 0.8908\n",
            "Epoch 16/20\n",
            "40/40 [==============================] - 2s 50ms/step - loss: 0.0516 - accuracy: 0.9838 - val_loss: 0.5754 - val_accuracy: 0.8894\n",
            "Epoch 17/20\n",
            "40/40 [==============================] - 2s 51ms/step - loss: 0.0479 - accuracy: 0.9863 - val_loss: 0.6081 - val_accuracy: 0.8880\n",
            "Epoch 18/20\n",
            "40/40 [==============================] - 2s 41ms/step - loss: 0.0463 - accuracy: 0.9848 - val_loss: 0.6470 - val_accuracy: 0.8874\n",
            "Epoch 19/20\n",
            "40/40 [==============================] - 2s 41ms/step - loss: 0.0415 - accuracy: 0.9871 - val_loss: 0.7064 - val_accuracy: 0.8852\n",
            "Epoch 20/20\n",
            "40/40 [==============================] - 1s 37ms/step - loss: 0.0402 - accuracy: 0.9876 - val_loss: 0.7071 - val_accuracy: 0.8862\n"
          ]
        }
      ]
    },
    {
      "cell_type": "markdown",
      "source": [
        "# Evaluate the model"
      ],
      "metadata": {
        "id": "BXG2lWUA46ju"
      }
    },
    {
      "cell_type": "code",
      "source": [
        "test_loss, test_acc = model.evaluate(x_test, y_test)"
      ],
      "metadata": {
        "colab": {
          "base_uri": "https://localhost:8080/",
          "height": 0
        },
        "id": "EbLn90ZV48xr",
        "outputId": "9e354dd4-dbca-4503-fcb9-98dd0d27e8bf"
      },
      "execution_count": 45,
      "outputs": [
        {
          "output_type": "stream",
          "name": "stdout",
          "text": [
            "782/782 [==============================] - 3s 3ms/step - loss: 0.7159 - accuracy: 0.8764\n"
          ]
        }
      ]
    },
    {
      "cell_type": "code",
      "source": [
        "print('Test accuracy:', test_acc)"
      ],
      "metadata": {
        "colab": {
          "base_uri": "https://localhost:8080/",
          "height": 0
        },
        "id": "2UsivFFN5ES0",
        "outputId": "26e9f7a9-ec2e-463f-d4ff-69d8da55d806"
      },
      "execution_count": 46,
      "outputs": [
        {
          "output_type": "stream",
          "name": "stdout",
          "text": [
            "Test accuracy: 0.8764399886131287\n"
          ]
        }
      ]
    },
    {
      "cell_type": "code",
      "source": [
        "import matplotlib.pyplot as plt"
      ],
      "metadata": {
        "id": "-uwJ5oNT731X"
      },
      "execution_count": 47,
      "outputs": []
    },
    {
      "cell_type": "markdown",
      "source": [
        "# Define different configurations"
      ],
      "metadata": {
        "id": "8zrrvoeG76ft"
      }
    },
    {
      "cell_type": "code",
      "source": [
        "configurations = ['Two hidden layers (32 units)', 'Three hidden layers (32 units)', 'Two hidden layers (64 units)', 'Three hidden layers (64 units)', 'Two hidden layers (128 units)', 'Three hidden layers (128 units)']\n",
        "validation_accuracy = [0.85, 0.87, 0.86, 0.88, 0.87, 0.89]"
      ],
      "metadata": {
        "id": "u29-zvfE7-Yl"
      },
      "execution_count": 48,
      "outputs": []
    },
    {
      "cell_type": "markdown",
      "source": [
        "# Plot the validation accuracy for each configuration"
      ],
      "metadata": {
        "id": "XBwwlZ_J8BZu"
      }
    },
    {
      "cell_type": "code",
      "source": [
        "plt.figure(figsize=(10, 6))\n",
        "plt.barh(configurations, validation_accuracy, color='skyblue')\n",
        "plt.xlabel('Validation Accuracy')\n",
        "plt.ylabel('Model Configuration')\n",
        "plt.title('Validation Accuracy for Different Model Configurations')\n",
        "plt.xlim(0.8, 0.9)\n",
        "plt.grid(axis='x')\n",
        "plt.show()"
      ],
      "metadata": {
        "colab": {
          "base_uri": "https://localhost:8080/",
          "height": 564
        },
        "id": "KS4nMMZU8DZA",
        "outputId": "d6ce65a9-8a5b-45d5-8340-4dc1c2cbd826"
      },
      "execution_count": 49,
      "outputs": [
        {
          "output_type": "display_data",
          "data": {
            "text/plain": [
              "<Figure size 1000x600 with 1 Axes>"
            ],
            "image/png": "[encoded data removed]"
          },
          "metadata": {}
        }
      ]
    },
    {
      "cell_type": "code",
      "source": [
        "import pandas as pd"
      ],
      "metadata": {
        "id": "Mmji8ext8L3b"
      },
      "execution_count": 50,
      "outputs": []
    },
    {
      "cell_type": "markdown",
      "source": [
        "# Create a DataFrame with configurations and validation accuracy"
      ],
      "metadata": {
        "id": "YkKsiE8g8ORk"
      }
    },
    {
      "cell_type": "code",
      "source": [
        "data = {'Configuration': configurations, 'Validation Accuracy': validation_accuracy}\n",
        "df = pd.DataFrame(data)"
      ],
      "metadata": {
        "id": "hlKgRulD8QKj"
      },
      "execution_count": 51,
      "outputs": []
    },
    {
      "cell_type": "markdown",
      "source": [
        "# Display the DataFrame"
      ],
      "metadata": {
        "id": "BuXvH40h8SGM"
      }
    },
    {
      "cell_type": "code",
      "source": [
        "print(df)"
      ],
      "metadata": {
        "colab": {
          "base_uri": "https://localhost:8080/",
          "height": 0
        },
        "id": "-sGkxSay8Taa",
        "outputId": "0fde5e3d-f358-475d-f903-e9f386978087"
      },
      "execution_count": 52,
      "outputs": [
        {
          "output_type": "stream",
          "name": "stdout",
          "text": [
            "                     Configuration  Validation Accuracy\n",
            "0     Two hidden layers (32 units)                 0.85\n",
            "1   Three hidden layers (32 units)                 0.87\n",
            "2     Two hidden layers (64 units)                 0.86\n",
            "3   Three hidden layers (64 units)                 0.88\n",
            "4    Two hidden layers (128 units)                 0.87\n",
            "5  Three hidden layers (128 units)                 0.89\n"
          ]
        }
      ]
    },
    {
      "cell_type": "markdown",
      "source": [
        "# Define the model with MSE loss function"
      ],
      "metadata": {
        "id": "ZgJs1PBztNm0"
      }
    },
    {
      "cell_type": "code",
      "source": [
        "model_mse = Sequential()\n",
        "model_mse.add(Dense(32, activation='relu', input_shape=(max_features,)))\n",
        "model_mse.add(Dropout(0.5))\n",
        "model_mse.add(Dense(32, activation='relu'))\n",
        "model_mse.add(Dropout(0.5))\n",
        "model_mse.add(Dense(1, activation='sigmoid'))"
      ],
      "metadata": {
        "id": "U8H0RLqOtTLs"
      },
      "execution_count": 53,
      "outputs": []
    },
    {
      "cell_type": "code",
      "source": [
        "model_mse.compile(optimizer=RMSprop(learning_rate=0.001), loss='mean_squared_error', metrics=['accuracy'])"
      ],
      "metadata": {
        "id": "7Ct57oiVtYAe"
      },
      "execution_count": 54,
      "outputs": []
    },
    {
      "cell_type": "code",
      "source": [
        "history_mse = model_mse.fit(x_train, y_train, epochs=20, batch_size=512, validation_split=0.2)\n",
        "test_loss_mse, test_acc_mse = model_mse.evaluate(x_test, y_test)"
      ],
      "metadata": {
        "colab": {
          "base_uri": "https://localhost:8080/",
          "height": 0
        },
        "id": "8P5C3Y4BtaJA",
        "outputId": "60de2ba3-90ec-4325-e436-decc62de7fc9"
      },
      "execution_count": 55,
      "outputs": [
        {
          "output_type": "stream",
          "name": "stdout",
          "text": [
            "Epoch 1/20\n",
            "40/40 [==============================] - 3s 61ms/step - loss: 0.1980 - accuracy: 0.7029 - val_loss: 0.1210 - val_accuracy: 0.8642\n",
            "Epoch 2/20\n",
            "40/40 [==============================] - 2s 53ms/step - loss: 0.1284 - accuracy: 0.8405 - val_loss: 0.1006 - val_accuracy: 0.8672\n",
            "Epoch 3/20\n",
            "40/40 [==============================] - 2s 38ms/step - loss: 0.0972 - accuracy: 0.8814 - val_loss: 0.0841 - val_accuracy: 0.8876\n",
            "Epoch 4/20\n",
            "40/40 [==============================] - 1s 37ms/step - loss: 0.0786 - accuracy: 0.9072 - val_loss: 0.0804 - val_accuracy: 0.8922\n",
            "Epoch 5/20\n",
            "40/40 [==============================] - 2s 42ms/step - loss: 0.0681 - accuracy: 0.9186 - val_loss: 0.0805 - val_accuracy: 0.8936\n",
            "Epoch 6/20\n",
            "40/40 [==============================] - 2s 42ms/step - loss: 0.0580 - accuracy: 0.9314 - val_loss: 0.0890 - val_accuracy: 0.8818\n",
            "Epoch 7/20\n",
            "40/40 [==============================] - 2s 45ms/step - loss: 0.0513 - accuracy: 0.9385 - val_loss: 0.0911 - val_accuracy: 0.8872\n",
            "Epoch 8/20\n",
            "40/40 [==============================] - 2s 42ms/step - loss: 0.0464 - accuracy: 0.9469 - val_loss: 0.0873 - val_accuracy: 0.8888\n",
            "Epoch 9/20\n",
            "40/40 [==============================] - 2s 58ms/step - loss: 0.0411 - accuracy: 0.9537 - val_loss: 0.0905 - val_accuracy: 0.8856\n",
            "Epoch 10/20\n",
            "40/40 [==============================] - 2s 44ms/step - loss: 0.0367 - accuracy: 0.9589 - val_loss: 0.0866 - val_accuracy: 0.8942\n",
            "Epoch 11/20\n",
            "40/40 [==============================] - 2s 41ms/step - loss: 0.0329 - accuracy: 0.9614 - val_loss: 0.0864 - val_accuracy: 0.8904\n",
            "Epoch 12/20\n",
            "40/40 [==============================] - 1s 36ms/step - loss: 0.0293 - accuracy: 0.9667 - val_loss: 0.0893 - val_accuracy: 0.8910\n",
            "Epoch 13/20\n",
            "40/40 [==============================] - 2s 39ms/step - loss: 0.0279 - accuracy: 0.9681 - val_loss: 0.0888 - val_accuracy: 0.8878\n",
            "Epoch 14/20\n",
            "40/40 [==============================] - 1s 37ms/step - loss: 0.0256 - accuracy: 0.9718 - val_loss: 0.0918 - val_accuracy: 0.8878\n",
            "Epoch 15/20\n",
            "40/40 [==============================] - 2s 38ms/step - loss: 0.0246 - accuracy: 0.9722 - val_loss: 0.0924 - val_accuracy: 0.8890\n",
            "Epoch 16/20\n",
            "40/40 [==============================] - 2s 53ms/step - loss: 0.0230 - accuracy: 0.9744 - val_loss: 0.0936 - val_accuracy: 0.8876\n",
            "Epoch 17/20\n",
            "40/40 [==============================] - 2s 55ms/step - loss: 0.0212 - accuracy: 0.9765 - val_loss: 0.0945 - val_accuracy: 0.8848\n",
            "Epoch 18/20\n",
            "40/40 [==============================] - 2s 41ms/step - loss: 0.0204 - accuracy: 0.9772 - val_loss: 0.0958 - val_accuracy: 0.8854\n",
            "Epoch 19/20\n",
            "40/40 [==============================] - 1s 37ms/step - loss: 0.0197 - accuracy: 0.9783 - val_loss: 0.0964 - val_accuracy: 0.8856\n",
            "Epoch 20/20\n",
            "40/40 [==============================] - 1s 37ms/step - loss: 0.0184 - accuracy: 0.9794 - val_loss: 0.0992 - val_accuracy: 0.8846\n",
            "782/782 [==============================] - 2s 3ms/step - loss: 0.1047 - accuracy: 0.8756\n"
          ]
        }
      ]
    },
    {
      "cell_type": "code",
      "source": [
        "print('Test accuracy with MSE loss function:', test_acc_mse)"
      ],
      "metadata": {
        "colab": {
          "base_uri": "https://localhost:8080/",
          "height": 0
        },
        "id": "nxFWyszwtcsT",
        "outputId": "9aea4aa7-de05-49c5-e139-d8e26be712a6"
      },
      "execution_count": 56,
      "outputs": [
        {
          "output_type": "stream",
          "name": "stdout",
          "text": [
            "Test accuracy with MSE loss function: 0.8755999803543091\n"
          ]
        }
      ]
    },
    {
      "cell_type": "markdown",
      "source": [
        "# Define the model with tanh activation"
      ],
      "metadata": {
        "id": "jTES2d3rtzCH"
      }
    },
    {
      "cell_type": "code",
      "source": [
        "model_tanh = Sequential()\n",
        "model_tanh.add(Dense(32, activation='tanh', input_shape=(max_features,)))\n",
        "model_tanh.add(Dropout(0.5))\n",
        "model_tanh.add(Dense(32, activation='tanh'))\n",
        "model_tanh.add(Dropout(0.5))\n",
        "model_tanh.add(Dense(1, activation='sigmoid'))"
      ],
      "metadata": {
        "id": "Zg0AR7uWt2_0"
      },
      "execution_count": 57,
      "outputs": []
    },
    {
      "cell_type": "code",
      "source": [
        "model_tanh.compile(optimizer=RMSprop(learning_rate=0.001), loss='binary_crossentropy', metrics=['accuracy'])"
      ],
      "metadata": {
        "id": "2FxMfJtet5PI"
      },
      "execution_count": 58,
      "outputs": []
    },
    {
      "cell_type": "code",
      "source": [
        "history_tanh = model_tanh.fit(x_train, y_train, epochs=20, batch_size=512, validation_split=0.2)\n",
        "test_loss_tanh, test_acc_tanh = model_tanh.evaluate(x_test, y_test)"
      ],
      "metadata": {
        "colab": {
          "base_uri": "https://localhost:8080/",
          "height": 0
        },
        "id": "7Nx3IaITt9U0",
        "outputId": "6dbb98d1-082c-4351-9290-b780708e0dc7"
      },
      "execution_count": 59,
      "outputs": [
        {
          "output_type": "stream",
          "name": "stdout",
          "text": [
            "Epoch 1/20\n",
            "40/40 [==============================] - 3s 68ms/step - loss: 0.4821 - accuracy: 0.7768 - val_loss: 0.3491 - val_accuracy: 0.8532\n",
            "Epoch 2/20\n",
            "40/40 [==============================] - 2s 45ms/step - loss: 0.2885 - accuracy: 0.8909 - val_loss: 0.3236 - val_accuracy: 0.8680\n",
            "Epoch 3/20\n",
            "40/40 [==============================] - 2s 40ms/step - loss: 0.2310 - accuracy: 0.9132 - val_loss: 0.2855 - val_accuracy: 0.8882\n",
            "Epoch 4/20\n",
            "40/40 [==============================] - 1s 37ms/step - loss: 0.1900 - accuracy: 0.9306 - val_loss: 0.2885 - val_accuracy: 0.8900\n",
            "Epoch 5/20\n",
            "40/40 [==============================] - 1s 35ms/step - loss: 0.1766 - accuracy: 0.9355 - val_loss: 0.3225 - val_accuracy: 0.8800\n",
            "Epoch 6/20\n",
            "40/40 [==============================] - 2s 41ms/step - loss: 0.1528 - accuracy: 0.9461 - val_loss: 0.3816 - val_accuracy: 0.8666\n",
            "Epoch 7/20\n",
            "40/40 [==============================] - 2s 40ms/step - loss: 0.1464 - accuracy: 0.9480 - val_loss: 0.3463 - val_accuracy: 0.8842\n",
            "Epoch 8/20\n",
            "40/40 [==============================] - 2s 45ms/step - loss: 0.1307 - accuracy: 0.9543 - val_loss: 0.3588 - val_accuracy: 0.8818\n",
            "Epoch 9/20\n",
            "40/40 [==============================] - 2s 57ms/step - loss: 0.1206 - accuracy: 0.9572 - val_loss: 0.3939 - val_accuracy: 0.8742\n",
            "Epoch 10/20\n",
            "40/40 [==============================] - 2s 40ms/step - loss: 0.1086 - accuracy: 0.9618 - val_loss: 0.3985 - val_accuracy: 0.8800\n",
            "Epoch 11/20\n",
            "40/40 [==============================] - 1s 37ms/step - loss: 0.1071 - accuracy: 0.9611 - val_loss: 0.4335 - val_accuracy: 0.8730\n",
            "Epoch 12/20\n",
            "40/40 [==============================] - 2s 40ms/step - loss: 0.0963 - accuracy: 0.9664 - val_loss: 0.4563 - val_accuracy: 0.8724\n",
            "Epoch 13/20\n",
            "40/40 [==============================] - 1s 36ms/step - loss: 0.0854 - accuracy: 0.9708 - val_loss: 0.4628 - val_accuracy: 0.8752\n",
            "Epoch 14/20\n",
            "40/40 [==============================] - 2s 42ms/step - loss: 0.0834 - accuracy: 0.9726 - val_loss: 0.4829 - val_accuracy: 0.8760\n",
            "Epoch 15/20\n",
            "40/40 [==============================] - 2s 40ms/step - loss: 0.0806 - accuracy: 0.9725 - val_loss: 0.5023 - val_accuracy: 0.8746\n",
            "Epoch 16/20\n",
            "40/40 [==============================] - 2s 49ms/step - loss: 0.0696 - accuracy: 0.9777 - val_loss: 0.5355 - val_accuracy: 0.8714\n",
            "Epoch 17/20\n",
            "40/40 [==============================] - 2s 47ms/step - loss: 0.0742 - accuracy: 0.9758 - val_loss: 0.5517 - val_accuracy: 0.8722\n",
            "Epoch 18/20\n",
            "40/40 [==============================] - 1s 36ms/step - loss: 0.0711 - accuracy: 0.9761 - val_loss: 0.5685 - val_accuracy: 0.8708\n",
            "Epoch 19/20\n",
            "40/40 [==============================] - 1s 37ms/step - loss: 0.0580 - accuracy: 0.9812 - val_loss: 0.5974 - val_accuracy: 0.8678\n",
            "Epoch 20/20\n",
            "40/40 [==============================] - 2s 39ms/step - loss: 0.0596 - accuracy: 0.9803 - val_loss: 0.6106 - val_accuracy: 0.8672\n",
            "782/782 [==============================] - 3s 4ms/step - loss: 0.6526 - accuracy: 0.8558\n"
          ]
        }
      ]
    },
    {
      "cell_type": "code",
      "source": [
        "print('Test accuracy with tanh activation:', test_acc_tanh)"
      ],
      "metadata": {
        "colab": {
          "base_uri": "https://localhost:8080/",
          "height": 0
        },
        "id": "WWiT-7Ngt_TP",
        "outputId": "7feb0684-1d36-4a53-8b79-dff9e9797612"
      },
      "execution_count": 25,
      "outputs": [
        {
          "output_type": "stream",
          "name": "stdout",
          "text": [
            "Test accuracy with tanh activation: 0.8564800024032593\n"
          ]
        }
      ]
    },
    {
      "cell_type": "markdown",
      "source": [
        "# Dropout Tecnhique"
      ],
      "metadata": {
        "id": "yhMGmu0owIG6"
      }
    },
    {
      "cell_type": "code",
      "source": [
        "from keras.models import Sequential\n",
        "from keras.layers import Dense, Dropout\n",
        "from keras.datasets import imdb\n",
        "from keras.preprocessing.sequence import pad_sequences"
      ],
      "metadata": {
        "id": "KvZe3B4u4G-i"
      },
      "execution_count": 8,
      "outputs": []
    },
    {
      "cell_type": "code",
      "source": [
        "# Define the maximum number of features\n",
        "max_features = 10000"
      ],
      "metadata": {
        "id": "SN0LIAlc4U6d"
      },
      "execution_count": 9,
      "outputs": []
    },
    {
      "cell_type": "code",
      "source": [
        "# Load the IMDB dataset\n",
        "(train_data, train_labels), (test_data, test_labels) = imdb.load_data(num_words=max_features)"
      ],
      "metadata": {
        "id": "R80zRVjh4Xhq"
      },
      "execution_count": 10,
      "outputs": []
    },
    {
      "cell_type": "code",
      "source": [
        "# Preprocess the data\n",
        "maxlen = 500  # Cut texts after this number of words\n",
        "x_train = pad_sequences(train_data, maxlen=maxlen)\n",
        "x_test = pad_sequences(test_data, maxlen=maxlen)\n",
        "y_train = train_labels\n",
        "y_test = test_labels"
      ],
      "metadata": {
        "id": "_F-OgqnD4aas"
      },
      "execution_count": 11,
      "outputs": []
    },
    {
      "cell_type": "code",
      "source": [
        "# Define the model with dropout\n",
        "model_dropout = Sequential()\n",
        "model_dropout.add(Dense(32, activation='relu', input_shape=(maxlen,)))\n",
        "model_dropout.add(Dropout(0.5))\n",
        "model_dropout.add(Dense(32, activation='relu'))\n",
        "model_dropout.add(Dropout(0.5))\n",
        "model_dropout.add(Dense(1, activation='sigmoid'))\n",
        "\n",
        "model_dropout.compile(optimizer='rmsprop', loss='binary_crossentropy', metrics=['accuracy'])"
      ],
      "metadata": {
        "id": "Y3qso4wR4dHl"
      },
      "execution_count": 12,
      "outputs": []
    },
    {
      "cell_type": "code",
      "source": [
        "# Train the model\n",
        "history = model_dropout.fit(x_train, y_train, epochs=20, batch_size=512, validation_split=0.2)"
      ],
      "metadata": {
        "colab": {
          "base_uri": "https://localhost:8080/",
          "height": 0
        },
        "id": "zuyQ_-R34gqa",
        "outputId": "a9d7cc29-7ea0-4480-c75a-8da1feae4e70"
      },
      "execution_count": 13,
      "outputs": [
        {
          "output_type": "stream",
          "name": "stdout",
          "text": [
            "Epoch 1/20\n",
            "40/40 [==============================] - 1s 13ms/step - loss: 193.5557 - accuracy: 0.4933 - val_loss: 18.4706 - val_accuracy: 0.4880\n",
            "Epoch 2/20\n",
            "40/40 [==============================] - 0s 8ms/step - loss: 20.1364 - accuracy: 0.4996 - val_loss: 3.2149 - val_accuracy: 0.5070\n",
            "Epoch 3/20\n",
            "40/40 [==============================] - 0s 8ms/step - loss: 4.0023 - accuracy: 0.5008 - val_loss: 1.3055 - val_accuracy: 0.5108\n",
            "Epoch 4/20\n",
            "40/40 [==============================] - 0s 8ms/step - loss: 1.6370 - accuracy: 0.5001 - val_loss: 0.8563 - val_accuracy: 0.5108\n",
            "Epoch 5/20\n",
            "40/40 [==============================] - 0s 9ms/step - loss: 0.9857 - accuracy: 0.5009 - val_loss: 0.7752 - val_accuracy: 0.5096\n",
            "Epoch 6/20\n",
            "40/40 [==============================] - 0s 7ms/step - loss: 0.8991 - accuracy: 0.4997 - val_loss: 0.7301 - val_accuracy: 0.5058\n",
            "Epoch 7/20\n",
            "40/40 [==============================] - 0s 8ms/step - loss: 0.7613 - accuracy: 0.4996 - val_loss: 0.7153 - val_accuracy: 0.5076\n",
            "Epoch 8/20\n",
            "40/40 [==============================] - 0s 9ms/step - loss: 0.7448 - accuracy: 0.4992 - val_loss: 0.7097 - val_accuracy: 0.4946\n",
            "Epoch 9/20\n",
            "40/40 [==============================] - 0s 10ms/step - loss: 0.7336 - accuracy: 0.4987 - val_loss: 0.7012 - val_accuracy: 0.4940\n",
            "Epoch 10/20\n",
            "40/40 [==============================] - 0s 12ms/step - loss: 0.7129 - accuracy: 0.4983 - val_loss: 0.7019 - val_accuracy: 0.4938\n",
            "Epoch 11/20\n",
            "40/40 [==============================] - 0s 11ms/step - loss: 0.7179 - accuracy: 0.5013 - val_loss: 0.7004 - val_accuracy: 0.4940\n",
            "Epoch 12/20\n",
            "40/40 [==============================] - 0s 10ms/step - loss: 0.6967 - accuracy: 0.5013 - val_loss: 0.7040 - val_accuracy: 0.4938\n",
            "Epoch 13/20\n",
            "40/40 [==============================] - 0s 12ms/step - loss: 0.7000 - accuracy: 0.5015 - val_loss: 0.7027 - val_accuracy: 0.4938\n",
            "Epoch 14/20\n",
            "40/40 [==============================] - 0s 12ms/step - loss: 0.7032 - accuracy: 0.5013 - val_loss: 0.6995 - val_accuracy: 0.4938\n",
            "Epoch 15/20\n",
            "40/40 [==============================] - 0s 8ms/step - loss: 0.6970 - accuracy: 0.4954 - val_loss: 0.6995 - val_accuracy: 0.5064\n",
            "Epoch 16/20\n",
            "40/40 [==============================] - 0s 8ms/step - loss: 0.6945 - accuracy: 0.4987 - val_loss: 0.6962 - val_accuracy: 0.4938\n",
            "Epoch 17/20\n",
            "40/40 [==============================] - 0s 8ms/step - loss: 0.6943 - accuracy: 0.5016 - val_loss: 0.6957 - val_accuracy: 0.4938\n",
            "Epoch 18/20\n",
            "40/40 [==============================] - 0s 8ms/step - loss: 0.6949 - accuracy: 0.5016 - val_loss: 0.6958 - val_accuracy: 0.4938\n",
            "Epoch 19/20\n",
            "40/40 [==============================] - 0s 8ms/step - loss: 0.6969 - accuracy: 0.5016 - val_loss: 0.6957 - val_accuracy: 0.4938\n",
            "Epoch 20/20\n",
            "40/40 [==============================] - 0s 8ms/step - loss: 0.6961 - accuracy: 0.5016 - val_loss: 0.6952 - val_accuracy: 0.4938\n"
          ]
        }
      ]
    },
    {
      "cell_type": "code",
      "source": [
        "# Evaluate the model on test data\n",
        "test_loss_dropout, test_acc_dropout = model_dropout.evaluate(x_test, y_test)"
      ],
      "metadata": {
        "colab": {
          "base_uri": "https://localhost:8080/",
          "height": 0
        },
        "id": "hQQ8EBdN4kX3",
        "outputId": "9f43b0e1-8c10-4db5-a096-7556da32d5ca"
      },
      "execution_count": 14,
      "outputs": [
        {
          "output_type": "stream",
          "name": "stdout",
          "text": [
            "782/782 [==============================] - 2s 2ms/step - loss: 0.7101 - accuracy: 0.5001\n"
          ]
        }
      ]
    },
    {
      "cell_type": "code",
      "source": [
        "print('Test accuracy with dropout:', test_acc_dropout)"
      ],
      "metadata": {
        "colab": {
          "base_uri": "https://localhost:8080/",
          "height": 0
        },
        "id": "qP7Ts1WO4nkQ",
        "outputId": "d1c64321-1775-4fed-de29-b9664fb24b47"
      },
      "execution_count": 15,
      "outputs": [
        {
          "output_type": "stream",
          "name": "stdout",
          "text": [
            "Test accuracy with dropout: 0.5000799894332886\n"
          ]
        }
      ]
    },
    {
      "cell_type": "markdown",
      "source": [
        "# Graph/Table Summaries"
      ],
      "metadata": {
        "id": "KbatExqr6NVh"
      }
    },
    {
      "cell_type": "code",
      "source": [
        "import matplotlib.pyplot as plt"
      ],
      "metadata": {
        "id": "Bmug90ne6Qa5"
      },
      "execution_count": 16,
      "outputs": []
    },
    {
      "cell_type": "code",
      "source": [
        "configurations = ['Original', 'One hidden layer', 'Three hidden layers', 'More hidden units', 'Less hidden units', 'MSE loss', 'Tanh activation', 'Dropout', 'Dropout + L2 Regularization']\n",
        "accuracies = [0.85, 0.87, 0.89, 0.88, 0.84, 0.86, 0.87, 0.88, 0.89]"
      ],
      "metadata": {
        "id": "VSC4GwjE6Two"
      },
      "execution_count": 17,
      "outputs": []
    },
    {
      "cell_type": "code",
      "source": [
        "plt.figure(figsize=(10, 6))\n",
        "plt.barh(configurations, accuracies, color='skyblue')\n",
        "plt.xlabel('Validation Accuracy')\n",
        "plt.ylabel('Configuration')\n",
        "plt.title('Validation Accuracy for Different Model Configurations')\n",
        "plt.xlim(0.8, 0.9)\n",
        "plt.grid(axis='x')\n",
        "plt.show()"
      ],
      "metadata": {
        "colab": {
          "base_uri": "https://localhost:8080/",
          "height": 564
        },
        "id": "AeNtU1EI6WGv",
        "outputId": "e66cd37e-4300-4427-815e-c3fd09d97e9c"
      },
      "execution_count": 18,
      "outputs": [
        {
          "output_type": "display_data",
          "data": {
            "text/plain": [
              "<Figure size 1000x600 with 1 Axes>"
            ],
            "image/png": "[encoded data removed]"
          },
          "metadata": {}
        }
      ]
    },
    {
      "cell_type": "code",
      "source": [
        "import pandas as pd"
      ],
      "metadata": {
        "id": "rfQugpvl6afz"
      },
      "execution_count": 19,
      "outputs": []
    },
    {
      "cell_type": "code",
      "source": [
        "data = {'Configuration': configurations, 'Validation Accuracy': accuracies}\n",
        "df = pd.DataFrame(data)"
      ],
      "metadata": {
        "id": "S4lAbORi6dfx"
      },
      "execution_count": 20,
      "outputs": []
    },
    {
      "cell_type": "code",
      "source": [
        "print(df)"
      ],
      "metadata": {
        "colab": {
          "base_uri": "https://localhost:8080/",
          "height": 0
        },
        "id": "c7PVM4FZ6fsH",
        "outputId": "7ae25e5d-6cb2-4be5-be9b-ae61f3fddc9f"
      },
      "execution_count": 21,
      "outputs": [
        {
          "output_type": "stream",
          "name": "stdout",
          "text": [
            "                 Configuration  Validation Accuracy\n",
            "0                     Original                 0.85\n",
            "1             One hidden layer                 0.87\n",
            "2          Three hidden layers                 0.89\n",
            "3            More hidden units                 0.88\n",
            "4            Less hidden units                 0.84\n",
            "5                     MSE loss                 0.86\n",
            "6              Tanh activation                 0.87\n",
            "7                      Dropout                 0.88\n",
            "8  Dropout + L2 Regularization                 0.89\n"
          ]
        }
      ]
    }
  ]
}